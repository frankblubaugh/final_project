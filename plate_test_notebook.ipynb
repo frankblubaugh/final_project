{
 "cells": [
  {
   "cell_type": "markdown",
   "metadata": {},
   "source": [
    "# introduction\n",
    "this notebook is the testing for the clampled plate that will serve as the optimum study for generating a brace design to minimize the radiation pattern from the FEM software.\n",
    "\n",
    "There are three overall steps that need to be resolved for this project. The main goal of this project is to foxu on meshing the three together and etermining an optimum solving strategy to minimize power. If all goes well other geometries will be explored."
   ]
  },
  {
   "cell_type": "code",
   "execution_count": 1,
   "metadata": {},
   "outputs": [],
   "source": [
    "from dolfin import *\n",
    "from fenics_shells import *"
   ]
  },
  {
   "cell_type": "code",
   "execution_count": 2,
   "metadata": {},
   "outputs": [],
   "source": [
    "mesh = UnitSquareMesh(32, 32)"
   ]
  },
  {
   "cell_type": "code",
   "execution_count": 3,
   "metadata": {},
   "outputs": [],
   "source": [
    "element = MixedElement([VectorElement(\"Lagrange\", triangle, 2),\n",
    "                        FiniteElement(\"Lagrange\", triangle, 1),\n",
    "                        FiniteElement(\"N1curl\", triangle, 1),\n",
    "                        FiniteElement(\"N1curl\", triangle, 1)])"
   ]
  },
  {
   "cell_type": "code",
   "execution_count": 4,
   "metadata": {},
   "outputs": [
    {
     "name": "stdout",
     "output_type": "stream",
     "text": [
      "Calling FFC just-in-time (JIT) compiler, this may take some time.\n",
      "Calling FFC just-in-time (JIT) compiler, this may take some time.\n",
      "Calling FFC just-in-time (JIT) compiler, this may take some time.\n",
      "Calling FFC just-in-time (JIT) compiler, this may take some time.\n",
      "Calling FFC just-in-time (JIT) compiler, this may take some time.\n",
      "Calling FFC just-in-time (JIT) compiler, this may take some time.\n"
     ]
    }
   ],
   "source": [
    "Q = ProjectedFunctionSpace(mesh, element, num_projected_subspaces=2)"
   ]
  },
  {
   "cell_type": "code",
   "execution_count": 5,
   "metadata": {},
   "outputs": [],
   "source": [
    "Q_F = Q.full_space"
   ]
  },
  {
   "cell_type": "code",
   "execution_count": 6,
   "metadata": {},
   "outputs": [],
   "source": [
    "q_ = Function(Q_F)\n",
    "theta_, w_, R_gamma_, p_ = split(q_)\n",
    "q = TrialFunction(Q_F)\n",
    "q_t = TestFunction(Q_F)"
   ]
  },
  {
   "cell_type": "code",
   "execution_count": 7,
   "metadata": {},
   "outputs": [],
   "source": [
    "E = Constant(10920.0)\n",
    "nu = Constant(0.3)\n",
    "kappa = Constant(5.0/6.0)\n",
    "t = Constant(0.001)"
   ]
  },
  {
   "cell_type": "code",
   "execution_count": 8,
   "metadata": {},
   "outputs": [],
   "source": [
    "k = sym(grad(theta_))"
   ]
  },
  {
   "cell_type": "code",
   "execution_count": 9,
   "metadata": {},
   "outputs": [],
   "source": [
    "D = (E*t**3)/(12.0*(1.0 - nu**2))\n",
    "psi_b = 0.5*D*((1.0 - nu)*tr(k*k) + nu*(tr(k))**2)"
   ]
  },
  {
   "cell_type": "code",
   "execution_count": 10,
   "metadata": {},
   "outputs": [],
   "source": [
    "psi_s = ((E*kappa*t)/(4.0*(1.0 + nu)))*inner(R_gamma_, R_gamma_)"
   ]
  },
  {
   "cell_type": "code",
   "execution_count": 11,
   "metadata": {},
   "outputs": [],
   "source": [
    "f = Constant(1.0)\n",
    "W_ext = inner(f*t**3, w_)*dx"
   ]
  },
  {
   "cell_type": "code",
   "execution_count": 12,
   "metadata": {},
   "outputs": [],
   "source": [
    "gamma = grad(w_) - theta_"
   ]
  },
  {
   "cell_type": "code",
   "execution_count": 13,
   "metadata": {},
   "outputs": [],
   "source": [
    "dSp = Measure('dS', metadata={'quadrature_degree': 1})\n",
    "dsp = Measure('ds', metadata={'quadrature_degree': 1})\n",
    "\n",
    "n = FacetNormal(mesh)\n",
    "t = as_vector((-n[1], n[0]))\n",
    "\n",
    "inner_e = lambda x, y: (inner(x, t)*inner(y, t))('+')*dSp + \\\n",
    "                       (inner(x, t)*inner(y, t))('-')*dSp + \\\n",
    "                       (inner(x, t)*inner(y, t))*dsp\n",
    "\n",
    "Pi_R = inner_e(gamma - R_gamma_, p_)"
   ]
  },
  {
   "cell_type": "code",
   "execution_count": 14,
   "metadata": {},
   "outputs": [],
   "source": [
    "Pi = psi_b*dx + psi_s*dx + Pi_R - W_ext"
   ]
  },
  {
   "cell_type": "code",
   "execution_count": 15,
   "metadata": {},
   "outputs": [],
   "source": [
    "dPi = derivative(Pi, q_, q_t)\n",
    "J = derivative(dPi, q_, q)"
   ]
  },
  {
   "cell_type": "code",
   "execution_count": 16,
   "metadata": {},
   "outputs": [
    {
     "name": "stdout",
     "output_type": "stream",
     "text": [
      "Calling FFC just-in-time (JIT) compiler, this may take some time.\n",
      "Calling FFC just-in-time (JIT) compiler, this may take some time.\n",
      "Calling FFC just-in-time (JIT) compiler, this may take some time.\n",
      "Calling FFC just-in-time (JIT) compiler, this may take some time.\n",
      "Calling FFC just-in-time (JIT) compiler, this may take some time.\n",
      "Calling FFC just-in-time (JIT) compiler, this may take some time.\n",
      "Calling FFC just-in-time (JIT) compiler, this may take some time.\n",
      "Calling FFC just-in-time (JIT) compiler, this may take some time.\n",
      "Calling FFC just-in-time (JIT) compiler, this may take some time.\n",
      "Calling FFC just-in-time (JIT) compiler, this may take some time.\n",
      "Calling FFC just-in-time (JIT) compiler, this may take some time.\n",
      "Calling FFC just-in-time (JIT) compiler, this may take some time.\n",
      "Calling FFC just-in-time (JIT) compiler, this may take some time.\n",
      "Calling FFC just-in-time (JIT) compiler, this may take some time.\n"
     ]
    }
   ],
   "source": [
    "A, b = assemble(Q, J, -dPi)"
   ]
  },
  {
   "cell_type": "code",
   "execution_count": 17,
   "metadata": {},
   "outputs": [],
   "source": [
    "def all_boundary(x, on_boundary):\n",
    "    return on_boundary\n",
    "\n",
    "bcs = [DirichletBC(Q, Constant((0.0, 0.0, 0.0)), all_boundary)]\n",
    "\n",
    "for bc in bcs:\n",
    "    bc.apply(A, b)"
   ]
  },
  {
   "cell_type": "code",
   "execution_count": 18,
   "metadata": {},
   "outputs": [
    {
     "data": {
      "text/plain": [
       "1"
      ]
     },
     "execution_count": 18,
     "metadata": {},
     "output_type": "execute_result"
    }
   ],
   "source": [
    "q_p_ = Function(Q)\n",
    "solver = PETScLUSolver(\"mumps\")\n",
    "solver.solve(A, q_p_.vector(), b)"
   ]
  },
  {
   "cell_type": "code",
   "execution_count": 19,
   "metadata": {},
   "outputs": [
    {
     "data": {
      "text/plain": [
       "Coefficient(FunctionSpace(Mesh(VectorElement(FiniteElement('Lagrange', triangle, 1), dim=2), 0), MixedElement(VectorElement(FiniteElement('Lagrange', triangle, 2), dim=2), FiniteElement('Lagrange', triangle, 1), FiniteElement('Nedelec 1st kind H(curl)', triangle, 1), FiniteElement('Nedelec 1st kind H(curl)', triangle, 1))), 7)"
      ]
     },
     "execution_count": 19,
     "metadata": {},
     "output_type": "execute_result"
    }
   ],
   "source": [
    "reconstruct_full_space(q_, q_p_, J, -dPi)"
   ]
  },
  {
   "cell_type": "code",
   "execution_count": 20,
   "metadata": {},
   "outputs": [],
   "source": [
    "save_dir = \"output/\"\n",
    "theta_h, w_h, R_gamma_h, p_h = q_.split()\n",
    "fields = {\"theta\": theta_h, \"w\": w_h, \"R_gamma\": R_gamma_h, \"p\": p_h}\n",
    "for name, field in fields.items():\n",
    "    field.rename(name, name)\n",
    "    field_file = XDMFFile(\"%s/%s.xdmf\" % (save_dir, name))\n",
    "    field_file.write(field)"
   ]
  },
  {
   "cell_type": "code",
   "execution_count": 21,
   "metadata": {},
   "outputs": [],
   "source": []
  }
 ],
 "metadata": {
  "kernelspec": {
   "display_name": "Python 3",
   "language": "python",
   "name": "python3"
  },
  "language_info": {
   "codemirror_mode": {
    "name": "ipython",
    "version": 3
   },
   "file_extension": ".py",
   "mimetype": "text/x-python",
   "name": "python",
   "nbconvert_exporter": "python",
   "pygments_lexer": "ipython3",
   "version": "3.6.7"
  }
 },
 "nbformat": 4,
 "nbformat_minor": 5
}
