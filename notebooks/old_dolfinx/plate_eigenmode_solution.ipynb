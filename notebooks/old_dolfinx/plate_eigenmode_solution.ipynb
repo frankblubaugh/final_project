{
 "cells": [
  {
   "cell_type": "markdown",
   "id": "2823de35",
   "metadata": {},
   "source": [
    "# Plate Modal Analysis\n",
    "As an exploration to learn how to us e the fencis program this will be as imple plate problem to resolvet he solutions.\n",
    "\n",
    "Code largely taken from amessage board disucssing this same problem\n",
    "https://fenicsproject.discourse.group/t/modal-analysis-using-dolfin-x/7349/4\n",
    "\n",
    "## Expand MPI in jupyter\n",
    "- Install ipyparallel\n",
    "- Enable it in Jupyter\n",
    "- jupyter serverextension enable --py ipyparallel\n",
    "- ipcluster start --n=4"
   ]
  },
  {
   "cell_type": "code",
   "execution_count": 2,
   "id": "2293cf5a",
   "metadata": {},
   "outputs": [],
   "source": [
    "\n",
    "from contextlib import ExitStack\n",
    "\n",
    "import numpy as np\n",
    "\n",
    "from dolfinx import la\n",
    "from dolfinx.mesh import CellType, create_box, locate_entities_boundary\n",
    "\n",
    "from dolfinx.fem import (DirichletBC, Function, VectorFunctionSpace,\n",
    "                         apply_lifting, assemble_matrix, assemble_vector,\n",
    "                         locate_dofs_geometrical, set_bc)\n",
    "from dolfinx.io import XDMFFile\n",
    "from dolfinx.mesh import CellType, GhostMode, create_box\n",
    "from ufl import (Identity, SpatialCoordinate, TestFunction, TrialFunction,\n",
    "                 as_vector, dx, grad, inner, sym, tr,CellVolume)\n",
    "from dolfinx.fem import (Constant, DirichletBC, Function, LinearProblem, FunctionSpace, VectorFunctionSpace, \n",
    "                         locate_dofs_topological)\n",
    "from petsc4py.PETSc import ScalarType\n",
    "from dolfinx import fem\n",
    "import dolfinx\n",
    "import matplotlib.pyplot as plt\n",
    "import ufl\n",
    "from mpi4py import MPI\n",
    "from slepc4py import SLEPc\n",
    "# from ipyparallel import Client, error\n",
    "# cluster = Client(profile=\"mpi\")"
   ]
  },
  {
   "cell_type": "code",
   "execution_count": 3,
   "id": "74f810d3",
   "metadata": {},
   "outputs": [
    {
     "name": "stdout",
     "output_type": "stream",
     "text": [
      "size is 1\n",
      "rank is 0\n"
     ]
    }
   ],
   "source": [
    "# invoke mpi\n",
    "comm = MPI.COMM_WORLD\n",
    "rank = comm.Get_rank()\n",
    "size = comm.Get_size()\n",
    "print(f\"size is {size}\")\n",
    "print(f\"rank is {rank}\")"
   ]
  },
  {
   "cell_type": "code",
   "execution_count": 4,
   "id": "3ddcb30c",
   "metadata": {},
   "outputs": [],
   "source": [
    "#create the mesh\n",
    "\n",
    "# define the dimensions\n",
    "x_0 = np.array([0.0,0.0,0.0])\n",
    "x_1 = np.array([2.0,1.0,1.0])\n",
    "\n",
    "# n_elements\n",
    "elements = [100,100,15]\n",
    "\n",
    "# mesh = create_box(\n",
    "    # comm, [x_0,x_1],elements,\n",
    "    # CellType.tetrahedron, GhostMode.shared_facet)\n",
    "\n",
    "L,B,H = 20.,0.5,1.\n",
    "Nx = 200\n",
    "Ny = int(B/L*Nx)+1\n",
    "Nz = int(H/L*Nx)+1\n",
    "mesh = create_box(\n",
    "    comm, [np.array([0.0, 0.0, 0.0]),\n",
    "                     np.array([L,B,H])], [Nx,Ny,Nz],\n",
    "    CellType.tetrahedron, GhostMode.shared_facet)\n"
   ]
  },
  {
   "cell_type": "code",
   "execution_count": 5,
   "id": "b828808b",
   "metadata": {},
   "outputs": [
    {
     "data": {
      "text/plain": [
       "79200"
      ]
     },
     "execution_count": 5,
     "metadata": {},
     "output_type": "execute_result"
    }
   ],
   "source": [
    "num_cells = mesh.topology.index_map(mesh.topology.dim).size_local\n",
    "num_cells\n"
   ]
  },
  {
   "cell_type": "code",
   "execution_count": 6,
   "id": "599bdc47",
   "metadata": {},
   "outputs": [],
   "source": [
    "# define the constants, using Aluminum\n",
    "E = 70e9\n",
    "nu = 0.33\n",
    "rho = 2700\n",
    "\n",
    "# define the lame constant\n",
    "mu = E/2./(1.+nu)\n",
    "lmbda = E*nu/(1.+nu)/(1.-2.*nu)\n",
    "lambda_ = E*nu/(1+nu)/(1-2*nu)\n"
   ]
  },
  {
   "cell_type": "code",
   "execution_count": 7,
   "id": "ffb23b37",
   "metadata": {},
   "outputs": [],
   "source": [
    "#define some functions\n",
    "def epsilon(v):\n",
    "    return ufl.sym(ufl.grad(v))\n",
    "\n",
    "def sigma(v):\n",
    "    dim=v.geometric_dimension()\n",
    "    return 2.0*mu*epsilon(v)+lmbda*ufl.tr(epsilon(v))*ufl.Identity(dim)"
   ]
  },
  {
   "cell_type": "code",
   "execution_count": 8,
   "id": "ec69f735",
   "metadata": {},
   "outputs": [],
   "source": [
    "# def epsilon(u):\n",
    "#     return ufl.sym(ufl.grad(u)) # Equivalent to 0.5*(ufl.nabla_grad(u) + ufl.nabla_grad(u).T)\n",
    "# def sigma(u):\n",
    "#     return lambda_ * ufl.nabla_div(u) * ufl.Identity(u.geometric_dimension()) + 2*mu*epsilon(u)"
   ]
  },
  {
   "cell_type": "code",
   "execution_count": 9,
   "id": "27a205b2",
   "metadata": {},
   "outputs": [],
   "source": [
    "# build the FEM solution\n",
    "V = VectorFunctionSpace(mesh,('Lagrange',1))\n",
    "u = TrialFunction(V)\n",
    "v = TestFunction(V)\n",
    "\n"
   ]
  },
  {
   "cell_type": "code",
   "execution_count": 10,
   "id": "743ae009",
   "metadata": {},
   "outputs": [],
   "source": [
    "# Define the boundary conditions\n",
    "def left_clamp(x):\n",
    "    return np.isclose(x[0], 0)# | (np.isclose(x[0],1.0)) | (np.isclose(x[1],1.0)) | (np.isclose(x[1],0.0))\n",
    "\n",
    "fdim = mesh.topology.dim - 1\n",
    "boundary_facets = locate_entities_boundary(mesh, fdim, left_clamp)\n",
    "\n",
    "u_D = Function(V)\n",
    "u_D.x.array[:] = 0\n",
    "bc = DirichletBC(u_D,locate_dofs_topological(V, fdim, boundary_facets))"
   ]
  },
  {
   "cell_type": "code",
   "execution_count": 11,
   "id": "ade57845",
   "metadata": {},
   "outputs": [],
   "source": [
    "# build the stiffness matrix\\\n",
    "\n",
    "k_form = ufl.inner(epsilon(u),sigma(v))*dx\n",
    "l_form = 1.*u[0]*dx # used to maintain symmetry\n",
    "m_form = rho*ufl.inner(u,v)*dx"
   ]
  },
  {
   "cell_type": "code",
   "execution_count": 15,
   "id": "d1e5c387",
   "metadata": {},
   "outputs": [
    {
     "ename": "TypeError",
     "evalue": "create_matrix_nest(): incompatible function arguments. The following argument types are supported:\n    1. (a: List[List[dolfinx::fem::Form<std::complex<double> >]], types: List[List[str]] = []) -> mat\n\nInvoked with: [<dolfinx.cpp.fem.Form_complex128 object at 0x7f85d9863570>, <dolfinx.cpp.fem.Form_complex128 object at 0x7f85da79ca30>], []\n\nDid you forget to `#include <pybind11/stl.h>`? Or <pybind11/complex.h>,\n<pybind11/functional.h>, <pybind11/chrono.h>, etc. Some automatic\nconversions are optional and require extra headers to be included\nwhen compiling your pybind11 module.",
     "output_type": "error",
     "traceback": [
      "\u001b[0;31m---------------------------------------------------------------------------\u001b[0m",
      "\u001b[0;31mTypeError\u001b[0m                                 Traceback (most recent call last)",
      "\u001b[0;32m/tmp/ipykernel_110/3745404957.py\u001b[0m in \u001b[0;36m<module>\u001b[0;34m\u001b[0m\n\u001b[0;32m----> 1\u001b[0;31m \u001b[0mdolfinx\u001b[0m\u001b[0;34m.\u001b[0m\u001b[0mfem\u001b[0m\u001b[0;34m.\u001b[0m\u001b[0massemble_matrix_nest\u001b[0m\u001b[0;34m(\u001b[0m\u001b[0;34m[\u001b[0m\u001b[0mk_form\u001b[0m\u001b[0;34m,\u001b[0m\u001b[0ml_form\u001b[0m\u001b[0;34m]\u001b[0m\u001b[0;34m)\u001b[0m\u001b[0;34m\u001b[0m\u001b[0;34m\u001b[0m\u001b[0m\n\u001b[0m",
      "\u001b[0;32m/usr/lib/python3.9/functools.py\u001b[0m in \u001b[0;36mwrapper\u001b[0;34m(*args, **kw)\u001b[0m\n\u001b[1;32m    875\u001b[0m                             '1 positional argument')\n\u001b[1;32m    876\u001b[0m \u001b[0;34m\u001b[0m\u001b[0m\n\u001b[0;32m--> 877\u001b[0;31m         \u001b[0;32mreturn\u001b[0m \u001b[0mdispatch\u001b[0m\u001b[0;34m(\u001b[0m\u001b[0margs\u001b[0m\u001b[0;34m[\u001b[0m\u001b[0;36m0\u001b[0m\u001b[0;34m]\u001b[0m\u001b[0;34m.\u001b[0m\u001b[0m__class__\u001b[0m\u001b[0;34m)\u001b[0m\u001b[0;34m(\u001b[0m\u001b[0;34m*\u001b[0m\u001b[0margs\u001b[0m\u001b[0;34m,\u001b[0m \u001b[0;34m**\u001b[0m\u001b[0mkw\u001b[0m\u001b[0;34m)\u001b[0m\u001b[0;34m\u001b[0m\u001b[0;34m\u001b[0m\u001b[0m\n\u001b[0m\u001b[1;32m    878\u001b[0m \u001b[0;34m\u001b[0m\u001b[0m\n\u001b[1;32m    879\u001b[0m     \u001b[0mfuncname\u001b[0m \u001b[0;34m=\u001b[0m \u001b[0mgetattr\u001b[0m\u001b[0;34m(\u001b[0m\u001b[0mfunc\u001b[0m\u001b[0;34m,\u001b[0m \u001b[0;34m'__name__'\u001b[0m\u001b[0;34m,\u001b[0m \u001b[0;34m'singledispatch function'\u001b[0m\u001b[0;34m)\u001b[0m\u001b[0;34m\u001b[0m\u001b[0;34m\u001b[0m\u001b[0m\n",
      "\u001b[0;32m/usr/local/dolfinx-complex/lib/python3.8/dist-packages/dolfinx/fem/assemble.py\u001b[0m in \u001b[0;36massemble_matrix_nest\u001b[0;34m(a, bcs, mat_types, diagonal, coeffs)\u001b[0m\n\u001b[1;32m    315\u001b[0m                          coeffs=Coefficients(None, None)) -> PETSc.Mat:\n\u001b[1;32m    316\u001b[0m     \u001b[0;34m\"\"\"Assemble bilinear forms into matrix\"\"\"\u001b[0m\u001b[0;34m\u001b[0m\u001b[0;34m\u001b[0m\u001b[0m\n\u001b[0;32m--> 317\u001b[0;31m     \u001b[0mA\u001b[0m \u001b[0;34m=\u001b[0m \u001b[0m_cpp\u001b[0m\u001b[0;34m.\u001b[0m\u001b[0mfem\u001b[0m\u001b[0;34m.\u001b[0m\u001b[0mpetsc\u001b[0m\u001b[0;34m.\u001b[0m\u001b[0mcreate_matrix_nest\u001b[0m\u001b[0;34m(\u001b[0m\u001b[0m_create_cpp_form\u001b[0m\u001b[0;34m(\u001b[0m\u001b[0ma\u001b[0m\u001b[0;34m)\u001b[0m\u001b[0;34m,\u001b[0m \u001b[0mmat_types\u001b[0m\u001b[0;34m)\u001b[0m\u001b[0;34m\u001b[0m\u001b[0;34m\u001b[0m\u001b[0m\n\u001b[0m\u001b[1;32m    318\u001b[0m     \u001b[0massemble_matrix_nest\u001b[0m\u001b[0;34m(\u001b[0m\u001b[0mA\u001b[0m\u001b[0;34m,\u001b[0m \u001b[0ma\u001b[0m\u001b[0;34m,\u001b[0m \u001b[0mbcs\u001b[0m\u001b[0;34m,\u001b[0m \u001b[0mdiagonal\u001b[0m\u001b[0;34m,\u001b[0m \u001b[0mcoeffs\u001b[0m\u001b[0;34m)\u001b[0m\u001b[0;34m\u001b[0m\u001b[0;34m\u001b[0m\u001b[0m\n\u001b[1;32m    319\u001b[0m     \u001b[0;32mreturn\u001b[0m \u001b[0mA\u001b[0m\u001b[0;34m\u001b[0m\u001b[0;34m\u001b[0m\u001b[0m\n",
      "\u001b[0;31mTypeError\u001b[0m: create_matrix_nest(): incompatible function arguments. The following argument types are supported:\n    1. (a: List[List[dolfinx::fem::Form<std::complex<double> >]], types: List[List[str]] = []) -> mat\n\nInvoked with: [<dolfinx.cpp.fem.Form_complex128 object at 0x7f85d9863570>, <dolfinx.cpp.fem.Form_complex128 object at 0x7f85da79ca30>], []\n\nDid you forget to `#include <pybind11/stl.h>`? Or <pybind11/complex.h>,\n<pybind11/functional.h>, <pybind11/chrono.h>, etc. Some automatic\nconversions are optional and require extra headers to be included\nwhen compiling your pybind11 module."
     ]
    }
   ],
   "source": []
  },
  {
   "cell_type": "code",
   "execution_count": 19,
   "id": "612e452a",
   "metadata": {},
   "outputs": [],
   "source": [
    "K_mat = dolfinx.fem.assemble_matrix(k_form)\n",
    "K_mat.assemble()\n",
    "B_mat = dolfinx.fem.assemble_vector(l_form)\n",
    "B_mat.assemble()"
   ]
  },
  {
   "cell_type": "code",
   "execution_count": 12,
   "id": "846bb0e9-2be7-4ab6-86bb-e9022a5fcb9f",
   "metadata": {},
   "outputs": [
    {
     "data": {
      "text/plain": [
       "<petsc4py.PETSc.Mat at 0x7fbd8ebab2c0>"
      ]
     },
     "execution_count": 12,
     "metadata": {},
     "output_type": "execute_result"
    }
   ],
   "source": [
    "problem = LinearProblem(k_form, l_form, bcs=[bc])\n",
    "problem.A"
   ]
  },
  {
   "cell_type": "code",
   "execution_count": 13,
   "id": "14cb454a-a19c-446c-bf44-350227dee069",
   "metadata": {},
   "outputs": [],
   "source": [
    "K_mat = problem.A\n",
    "K_mat.assemble()"
   ]
  },
  {
   "cell_type": "code",
   "execution_count": 14,
   "id": "f7396095",
   "metadata": {},
   "outputs": [],
   "source": [
    "# assemble the matricies\n",
    "M_mat = assemble_matrix(m_form,bcs=[bc])\n",
    "M_mat.assemble()"
   ]
  },
  {
   "cell_type": "code",
   "execution_count": 47,
   "id": "cfc2019c",
   "metadata": {},
   "outputs": [],
   "source": [
    "ki, kj, kv = K_mat.getValuesCSR()\n",
    "Mi,Mj,Mv = M_mat.getValuesCSR() "
   ]
  },
  {
   "cell_type": "code",
   "execution_count": 21,
   "id": "cb1c13d8",
   "metadata": {},
   "outputs": [
    {
     "data": {
      "text/plain": [
       "(50652, 50652)"
      ]
     },
     "execution_count": 21,
     "metadata": {},
     "output_type": "execute_result"
    }
   ],
   "source": [
    "K_mat.getSize()"
   ]
  },
  {
   "cell_type": "code",
   "execution_count": 15,
   "id": "61f0be91",
   "metadata": {},
   "outputs": [],
   "source": [
    "# kmat_numpy = kmat_numpy.getDenseArray()\n",
    "import scipy.linalg as splg\n",
    "from scipy.sparse import linalg\n",
    "import scipy.sparse as spsparse"
   ]
  },
  {
   "cell_type": "code",
   "execution_count": 50,
   "id": "5d6dc752",
   "metadata": {},
   "outputs": [
    {
     "ename": "ValueError",
     "evalue": "unable to infer matrix dimensions",
     "output_type": "error",
     "traceback": [
      "\u001b[0;31m---------------------------------------------------------------------------\u001b[0m",
      "\u001b[0;31mValueError\u001b[0m                                Traceback (most recent call last)",
      "\u001b[0;32m/usr/lib/python3/dist-packages/scipy/sparse/compressed.py\u001b[0m in \u001b[0;36m__init__\u001b[0;34m(self, arg1, shape, dtype, copy)\u001b[0m\n\u001b[1;32m     94\u001b[0m                     \u001b[0mmajor_dim\u001b[0m \u001b[0;34m=\u001b[0m \u001b[0mlen\u001b[0m\u001b[0;34m(\u001b[0m\u001b[0mself\u001b[0m\u001b[0;34m.\u001b[0m\u001b[0mindptr\u001b[0m\u001b[0;34m)\u001b[0m \u001b[0;34m-\u001b[0m \u001b[0;36m1\u001b[0m\u001b[0;34m\u001b[0m\u001b[0;34m\u001b[0m\u001b[0m\n\u001b[0;32m---> 95\u001b[0;31m                     \u001b[0mminor_dim\u001b[0m \u001b[0;34m=\u001b[0m \u001b[0mself\u001b[0m\u001b[0;34m.\u001b[0m\u001b[0mindices\u001b[0m\u001b[0;34m.\u001b[0m\u001b[0mmax\u001b[0m\u001b[0;34m(\u001b[0m\u001b[0;34m)\u001b[0m \u001b[0;34m+\u001b[0m \u001b[0;36m1\u001b[0m\u001b[0;34m\u001b[0m\u001b[0;34m\u001b[0m\u001b[0m\n\u001b[0m\u001b[1;32m     96\u001b[0m                 \u001b[0;32mexcept\u001b[0m \u001b[0mException\u001b[0m \u001b[0;32mas\u001b[0m \u001b[0me\u001b[0m\u001b[0;34m:\u001b[0m\u001b[0;34m\u001b[0m\u001b[0;34m\u001b[0m\u001b[0m\n",
      "\u001b[0;32m/usr/local/lib/python3.9/dist-packages/numpy/core/_methods.py\u001b[0m in \u001b[0;36m_amax\u001b[0;34m(a, axis, out, keepdims, initial, where)\u001b[0m\n\u001b[1;32m     38\u001b[0m           initial=_NoValue, where=True):\n\u001b[0;32m---> 39\u001b[0;31m     \u001b[0;32mreturn\u001b[0m \u001b[0mumr_maximum\u001b[0m\u001b[0;34m(\u001b[0m\u001b[0ma\u001b[0m\u001b[0;34m,\u001b[0m \u001b[0maxis\u001b[0m\u001b[0;34m,\u001b[0m \u001b[0;32mNone\u001b[0m\u001b[0;34m,\u001b[0m \u001b[0mout\u001b[0m\u001b[0;34m,\u001b[0m \u001b[0mkeepdims\u001b[0m\u001b[0;34m,\u001b[0m \u001b[0minitial\u001b[0m\u001b[0;34m,\u001b[0m \u001b[0mwhere\u001b[0m\u001b[0;34m)\u001b[0m\u001b[0;34m\u001b[0m\u001b[0;34m\u001b[0m\u001b[0m\n\u001b[0m\u001b[1;32m     40\u001b[0m \u001b[0;34m\u001b[0m\u001b[0m\n",
      "\u001b[0;31mValueError\u001b[0m: zero-size array to reduction operation maximum which has no identity",
      "\nThe above exception was the direct cause of the following exception:\n",
      "\u001b[0;31mValueError\u001b[0m                                Traceback (most recent call last)",
      "\u001b[0;32m/tmp/ipykernel_15/568367735.py\u001b[0m in \u001b[0;36m<module>\u001b[0;34m\u001b[0m\n\u001b[0;32m----> 1\u001b[0;31m \u001b[0mKsparse\u001b[0m \u001b[0;34m=\u001b[0m \u001b[0mspsparse\u001b[0m\u001b[0;34m.\u001b[0m\u001b[0mcsr_matrix\u001b[0m\u001b[0;34m(\u001b[0m\u001b[0;34m(\u001b[0m\u001b[0mkv\u001b[0m\u001b[0;34m,\u001b[0m\u001b[0mkj\u001b[0m\u001b[0;34m,\u001b[0m\u001b[0mki\u001b[0m\u001b[0;34m)\u001b[0m\u001b[0;34m)\u001b[0m\u001b[0;34m\u001b[0m\u001b[0;34m\u001b[0m\u001b[0m\n\u001b[0m\u001b[1;32m      2\u001b[0m \u001b[0mMsparse\u001b[0m \u001b[0;34m=\u001b[0m \u001b[0mspsparse\u001b[0m\u001b[0;34m.\u001b[0m\u001b[0mcsr_matrix\u001b[0m\u001b[0;34m(\u001b[0m\u001b[0;34m(\u001b[0m\u001b[0mMv\u001b[0m\u001b[0;34m,\u001b[0m\u001b[0mMj\u001b[0m\u001b[0;34m,\u001b[0m\u001b[0mMi\u001b[0m\u001b[0;34m)\u001b[0m\u001b[0;34m)\u001b[0m\u001b[0;34m\u001b[0m\u001b[0;34m\u001b[0m\u001b[0m\n",
      "\u001b[0;32m/usr/lib/python3/dist-packages/scipy/sparse/compressed.py\u001b[0m in \u001b[0;36m__init__\u001b[0;34m(self, arg1, shape, dtype, copy)\u001b[0m\n\u001b[1;32m     95\u001b[0m                     \u001b[0mminor_dim\u001b[0m \u001b[0;34m=\u001b[0m \u001b[0mself\u001b[0m\u001b[0;34m.\u001b[0m\u001b[0mindices\u001b[0m\u001b[0;34m.\u001b[0m\u001b[0mmax\u001b[0m\u001b[0;34m(\u001b[0m\u001b[0;34m)\u001b[0m \u001b[0;34m+\u001b[0m \u001b[0;36m1\u001b[0m\u001b[0;34m\u001b[0m\u001b[0;34m\u001b[0m\u001b[0m\n\u001b[1;32m     96\u001b[0m                 \u001b[0;32mexcept\u001b[0m \u001b[0mException\u001b[0m \u001b[0;32mas\u001b[0m \u001b[0me\u001b[0m\u001b[0;34m:\u001b[0m\u001b[0;34m\u001b[0m\u001b[0;34m\u001b[0m\u001b[0m\n\u001b[0;32m---> 97\u001b[0;31m                     \u001b[0;32mraise\u001b[0m \u001b[0mValueError\u001b[0m\u001b[0;34m(\u001b[0m\u001b[0;34m'unable to infer matrix dimensions'\u001b[0m\u001b[0;34m)\u001b[0m \u001b[0;32mfrom\u001b[0m \u001b[0me\u001b[0m\u001b[0;34m\u001b[0m\u001b[0;34m\u001b[0m\u001b[0m\n\u001b[0m\u001b[1;32m     98\u001b[0m                 \u001b[0;32melse\u001b[0m\u001b[0;34m:\u001b[0m\u001b[0;34m\u001b[0m\u001b[0;34m\u001b[0m\u001b[0m\n\u001b[1;32m     99\u001b[0m                     self._shape = check_shape(self._swap((major_dim,\n",
      "\u001b[0;31mValueError\u001b[0m: unable to infer matrix dimensions"
     ]
    }
   ],
   "source": [
    "Ksparse = spsparse.csr_matrix((kv,kj,ki))\n",
    "Msparse = spsparse.csr_matrix((Mv,Mj,Mi))"
   ]
  },
  {
   "cell_type": "code",
   "execution_count": 29,
   "id": "7a3289e3",
   "metadata": {},
   "outputs": [
    {
     "name": "stdout",
     "output_type": "stream",
     "text": [
      "False\n",
      "True\n"
     ]
    }
   ],
   "source": [
    "# check if symmetric\n",
    "print((np.abs(Ksparse - Ksparse.T)>1e-10).nnz == 0)\n",
    "print((np.abs(Msparse - Msparse.T)>1e-10).nnz == 0)"
   ]
  },
  {
   "cell_type": "code",
   "execution_count": 195,
   "id": "4bac21b3",
   "metadata": {},
   "outputs": [
    {
     "name": "stdout",
     "output_type": "stream",
     "text": [
      "CPU times: user 96.1 ms, sys: 20 ms, total: 116 ms\n",
      "Wall time: 113 ms\n"
     ]
    }
   ],
   "source": [
    "%time w,v = spsparse.linalg.eigs(Ksparse,100,Msparse,which='SM')"
   ]
  },
  {
   "cell_type": "code",
   "execution_count": 196,
   "id": "dd57efcb",
   "metadata": {},
   "outputs": [
    {
     "data": {
      "text/plain": [
       "array([9.64794903e+09+5.39260048e-05j, 9.22454365e+09+1.54667551e-06j,\n",
       "       9.23273949e+09+2.80488433e-06j, 7.43933616e+09+9.29326496e-06j,\n",
       "       7.06741142e+09+3.70421187e-05j, 6.64973353e+09+1.00591951e-05j,\n",
       "       5.92241812e+09+4.06845157e-05j, 5.71601903e+09-7.60409241e-06j,\n",
       "       5.29776537e+09-5.37452298e-06j, 5.20957243e+09+8.42202168e-05j,\n",
       "       5.16927829e+09-1.61314127e-05j, 4.74020935e+09-2.64226429e-05j,\n",
       "       4.61523647e+09+3.86903909e-05j, 4.30629492e+09+9.35631597e-05j,\n",
       "       4.20577292e+09-3.16502876e-05j, 9.70333058e+07-8.93788220e-06j,\n",
       "       3.69719241e+09+6.49279740e-05j, 3.70195814e+09-6.23596735e-05j,\n",
       "       3.70329759e+09-2.07625189e-05j, 3.12304512e+08+2.77288300e-05j,\n",
       "       4.91778721e+08+1.83789352e-06j, 4.27685458e+08-1.18731780e-05j,\n",
       "       4.26059863e+08+1.15103660e-05j, 6.90821093e+08+3.33864881e-05j,\n",
       "       7.02940475e+08+1.86884199e-06j, 3.23676549e+09+3.99328254e-06j,\n",
       "       3.06798456e+09+3.85064169e-05j, 3.03455862e+09+1.39664906e-05j,\n",
       "       2.99777399e+09-1.61147267e-05j, 1.22435050e+09-3.17489009e-05j,\n",
       "       1.05852350e+09-9.51833682e-07j, 1.05938848e+09+2.01456004e-05j,\n",
       "       1.34735023e+09+1.44138600e-05j, 1.40404877e+09-7.44569904e-06j,\n",
       "       1.63837905e+09+1.28167142e-05j, 1.73368389e+09+4.06867155e-05j,\n",
       "       1.89931712e+09-3.44061680e-05j, 1.87008981e+09+3.72425944e-06j,\n",
       "       2.54877946e+09-7.96910864e-05j, 2.30478761e+09+4.63379545e-05j,\n",
       "       2.39508207e+09+3.03980108e-05j, 2.37214256e+09-7.50264658e-05j,\n",
       "       2.34054517e+09+5.87892404e-05j, 1.00000010e+00+4.35133773e-09j,\n",
       "       1.00000000e+00-1.12757026e-17j, 1.00000000e+00-1.04624738e-18j,\n",
       "       1.00000000e+00+1.93235019e-19j, 1.00000000e+00+1.95752207e-18j,\n",
       "       1.00000000e+00-2.77700737e-18j, 1.00000000e+00+1.60538034e-18j,\n",
       "       1.00000000e+00-1.72172004e-18j, 1.00000000e+00+5.06452734e-18j,\n",
       "       1.00000000e+00-1.72082614e-18j, 1.00000000e+00-6.52200618e-18j,\n",
       "       1.00000000e+00-5.85662893e-19j, 1.00000000e+00-5.10907088e-19j,\n",
       "       1.00000000e+00-1.40968397e-18j, 1.00000000e+00-4.66719434e-18j,\n",
       "       1.00000000e+00+8.64562636e-20j, 1.00000000e+00-2.08750520e-19j,\n",
       "       1.00000000e+00+2.84982817e-18j, 1.00000000e+00+2.23205247e-18j,\n",
       "       1.00000000e+00+2.51946121e-18j, 1.00000000e+00-1.42420738e-18j,\n",
       "       1.00000000e+00+1.69939460e-18j, 1.00000000e+00-1.18053218e-19j,\n",
       "       1.00000000e+00+4.35738680e-19j, 1.00000000e+00-3.54456657e-19j,\n",
       "       1.00000000e+00+5.55627582e-19j, 1.00000000e+00-1.57111492e-19j,\n",
       "       1.00000000e+00+1.27866932e-18j, 1.00000000e+00-1.36354246e-18j,\n",
       "       1.00000000e+00+9.27096054e-18j, 1.00000000e+00-8.22983656e-19j,\n",
       "       1.00000000e+00-6.95965193e-18j, 1.00000000e+00-1.27814650e-18j,\n",
       "       1.00000000e+00-8.82559088e-18j, 1.00000000e+00+1.92662912e-18j,\n",
       "       1.00000000e+00-3.86191023e-18j, 1.00000000e+00-3.71520009e-20j,\n",
       "       1.00000000e+00-4.51069718e-19j, 1.00000000e+00+4.81911816e-18j,\n",
       "       1.00000000e+00+4.34030749e-18j, 1.00000000e+00-4.59547996e-19j,\n",
       "       1.00000000e+00+3.19653857e-18j, 1.00000000e+00-6.25418919e-19j,\n",
       "       1.00000000e+00-6.06700953e-18j, 1.00000000e+00+5.17502155e-19j,\n",
       "       1.00000000e+00-8.22545984e-19j, 1.00000000e+00-1.32662552e-19j,\n",
       "       1.00000000e+00+3.07667395e-18j, 1.00000000e+00-5.52846618e-18j,\n",
       "       1.00000000e+00+5.52699613e-18j, 1.00000000e+00-5.23628424e-18j,\n",
       "       1.00000000e+00+1.88552266e-18j, 1.00000000e+00+3.23578989e-19j,\n",
       "       1.00000000e+00-3.45485370e-18j, 1.00000000e+00+1.61470917e-18j,\n",
       "       1.00000000e+00-4.23745288e-18j, 1.00000000e+00-1.25112953e-18j])"
      ]
     },
     "execution_count": 196,
     "metadata": {},
     "output_type": "execute_result"
    }
   ],
   "source": [
    "w"
   ]
  },
  {
   "cell_type": "code",
   "execution_count": 20,
   "id": "eeb56b09",
   "metadata": {},
   "outputs": [
    {
     "name": "stdout",
     "output_type": "stream",
     "text": [
      "EPS Object: 1 MPI processes\n",
      "  type: krylovschur\n",
      "    0% of basis vectors kept after restart\n",
      "    using the locking variant\n",
      "  problem type: not yet set\n",
      "  selected portion of the spectrum: smallest eigenvalues in magnitude\n",
      "  postprocessing eigenvectors with purification\n",
      "  number of eigenvalues (nev): 1\n",
      "  number of column vectors (ncv): -2\n",
      "  maximum dimension of projected problem (mpd): -2\n",
      "  maximum number of iterations: -2\n",
      "  tolerance: -2.\n",
      "  convergence test: relative to the eigenvalue\n",
      "BV Object: 1 MPI processes\n",
      "  type: svec\n",
      "  0 columns of global length -1\n",
      "  vector orthogonalization method: classical Gram-Schmidt\n",
      "  orthogonalization refinement: if needed (eta: 0.7071)\n",
      "  block orthogonalization method: GS\n",
      "  doing matmult as a single matrix-matrix product\n",
      "DS Object: 1 MPI processes\n",
      "  type: nhep\n",
      "ST Object: 1 MPI processes\n",
      "  type: shift\n",
      "  shift: 0.\n",
      "  number of matrices: 2\n",
      "  all matrices have unknown nonzero pattern\n",
      "  KSP Object: (st_) 1 MPI processes\n",
      "    type: preonly\n",
      "    maximum iterations=10000, initial guess is zero\n",
      "    tolerances:  relative=1e-08, absolute=1e-50, divergence=10000.\n",
      "    left preconditioning\n",
      "    using DEFAULT norm type for convergence test\n",
      "  PC Object: (st_) 1 MPI processes\n",
      "    type: lu\n",
      "    PC has not been set up so information may be incomplete\n",
      "      out-of-place factorization\n",
      "      tolerance for zero pivot 2.22045e-14\n"
     ]
    }
   ],
   "source": [
    "# set up eigensolver parameters\n",
    "eigensolver = SLEPc.EPS().create(MPI.COMM_WORLD)\n",
    "eigensolver.setOperators(K_mat,M_mat)\n",
    "# eigensolver.setDimensions(nev=10) # returns 10 values\n",
    "# eigensolver.setProblemType(2) # Generalized Hermitian Eigensolver Problem\n",
    "eigensolver.setWhichEigenpairs(2) # smallest eigenvalues\n",
    "eigensolver.setFromOptions() # applies options\n",
    "eigensolver.view() # checks results\n"
   ]
  },
  {
   "cell_type": "code",
   "execution_count": null,
   "id": "9f8a7f6c",
   "metadata": {},
   "outputs": [],
   "source": [
    "%time eigensolver.solve()"
   ]
  },
  {
   "cell_type": "code",
   "execution_count": null,
   "id": "cb0a2dec",
   "metadata": {},
   "outputs": [],
   "source": []
  },
  {
   "cell_type": "code",
   "execution_count": 18,
   "id": "4e2e7a21",
   "metadata": {},
   "outputs": [
    {
     "name": "stdout",
     "output_type": "stream",
     "text": [
      "N_iterations: 1\n"
     ]
    },
    {
     "data": {
      "text/plain": [
       "1"
      ]
     },
     "execution_count": 18,
     "metadata": {},
     "output_type": "execute_result"
    }
   ],
   "source": [
    "print(f'N_iterations: {eigensolver.getIterationNumber()}')\n",
    "# k = eigensolver.getEigenpair(0)\n",
    "# print(k)\n",
    "eigensolver.getConverged()\n"
   ]
  },
  {
   "cell_type": "code",
   "execution_count": 44,
   "id": "8ecd6c37",
   "metadata": {},
   "outputs": [
    {
     "name": "stdout",
     "output_type": "stream",
     "text": [
      "Eig Freq 0: 0.0 Hz\n"
     ]
    }
   ],
   "source": [
    "for eig_idx in range(eigensolver.getConverged()):\n",
    "    k_sub = eigensolver.getEigenpair(eig_idx)\n",
    "    print(f'Eig Freq {eig_idx}: {np.sqrt(np.abs(k_sub))/(2*np.pi)} Hz')"
   ]
  },
  {
   "cell_type": "markdown",
   "id": "7ed37a32",
   "metadata": {},
   "source": [
    "# Compute Theoretical Models from Leissa\n",
    "\n",
    "Using Leissa to compute the models for a free-free plate"
   ]
  },
  {
   "cell_type": "code",
   "execution_count": 133,
   "id": "3a3681f1",
   "metadata": {},
   "outputs": [
    {
     "data": {
      "text/plain": [
       "3183.4431698477947"
      ]
     },
     "execution_count": 133,
     "metadata": {},
     "output_type": "execute_result"
    }
   ],
   "source": [
    "# leissa modes\n",
    "import numpy as np\n",
    "\n",
    "def G(m):\n",
    "    return m-1/2\n",
    "\n",
    "def J(m):\n",
    "    return (m-1/2)**2*(1-(2/((m-1/2)*np.pi)))\n",
    "\n",
    "def H(m):\n",
    "    return (m-1/2)**2*(1-(2/((m-1/2)*np.pi)))\n",
    "\n",
    "D = E*0.01**3/(12*(1-nu**2))\n",
    "a = 1.0\n",
    "b = 1.0\n",
    "m = 2\n",
    "n = 2\n",
    "np.pi**4*D/(a**4*rho)*((G(m)**4+G(n)**4)*(a/b)**4+2*(a/b)**2*(nu*H(m)*H(n)+(1-nu)*J(m)*J(n)))"
   ]
  },
  {
   "cell_type": "code",
   "execution_count": 124,
   "id": "e65a6856",
   "metadata": {},
   "outputs": [
    {
     "data": {
      "text/plain": [
       "560.9669245945568"
      ]
     },
     "execution_count": 124,
     "metadata": {},
     "output_type": "execute_result"
    }
   ],
   "source": [
    "B = 10.4\n",
    "B*np.sqrt((E*0.01**2/(rho*a**4*(1-nu**2))))"
   ]
  }
 ],
 "metadata": {
  "kernelspec": {
   "display_name": "Python 3 (ipykernel)",
   "language": "python",
   "name": "python3"
  },
  "language_info": {
   "codemirror_mode": {
    "name": "ipython",
    "version": 3
   },
   "file_extension": ".py",
   "mimetype": "text/x-python",
   "name": "python",
   "nbconvert_exporter": "python",
   "pygments_lexer": "ipython3",
   "version": "3.9.7"
  }
 },
 "nbformat": 4,
 "nbformat_minor": 5
}
