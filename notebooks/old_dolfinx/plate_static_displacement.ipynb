{
 "cells": [
  {
   "cell_type": "code",
   "execution_count": 2,
   "metadata": {},
   "outputs": [],
   "source": [
    "\n",
    "from contextlib import ExitStack\n",
    "\n",
    "import numpy as np\n",
    "\n",
    "from dolfinx import la\n",
    "from dolfinx.mesh import CellType, create_box, locate_entities_boundary\n",
    "\n",
    "from dolfinx.fem import (DirichletBC, Function, VectorFunctionSpace,\n",
    "                         apply_lifting, assemble_matrix, assemble_vector,\n",
    "                         locate_dofs_geometrical, set_bc)\n",
    "from dolfinx.io import XDMFFile\n",
    "from dolfinx.mesh import CellType, GhostMode, create_box\n",
    "from ufl import (Identity, SpatialCoordinate, TestFunction, TrialFunction,\n",
    "                 as_vector, dx, grad, inner, sym, tr,CellVolume)\n",
    "from dolfinx.fem import (Constant, DirichletBC, Function, LinearProblem, FunctionSpace, VectorFunctionSpace, \n",
    "                         locate_dofs_topological)\n",
    "from petsc4py.PETSc import ScalarType\n",
    "import dolfinx\n",
    "import ufl\n",
    "from mpi4py import MPI\n",
    "from petsc4py import PETSc"
   ]
  },
  {
   "cell_type": "code",
   "execution_count": 3,
   "metadata": {},
   "outputs": [
    {
     "name": "stdout",
     "output_type": "stream",
     "text": [
      "size is 1\n",
      "rank is 0\n"
     ]
    }
   ],
   "source": [
    "comm = MPI.COMM_WORLD\n",
    "rank = comm.Get_rank()\n",
    "size = comm.Get_size()\n",
    "print(f\"size is {size}\")\n",
    "print(f\"rank is {rank}\")"
   ]
  },
  {
   "cell_type": "markdown",
   "metadata": {},
   "source": [
    "# Create mesh model\n",
    "Steps are below\n",
    "1. Create Mesh\n",
    "2. Defince elastic coordinates\n",
    "3. add gravitational force to each cell\n",
    "4. define stress/strain for the equations\n",
    "5. Follow elasticity demo and build the curves"
   ]
  },
  {
   "cell_type": "code",
   "execution_count": 4,
   "metadata": {},
   "outputs": [],
   "source": [
    "mesh = create_box(\n",
    "    comm, [np.array([0.0, 0.0, 0.0]),\n",
    "                     np.array([2.0, 1.0, 0.1])], [100, 100, 15],\n",
    "    CellType.tetrahedron, GhostMode.shared_facet)\n",
    "\n",
    "\n",
    "# Rotation rate and mass density\n",
    "# omega = 300.0\n",
    "# rho = 10.0\n",
    "rho = 2700 # density\n",
    "\n",
    "# Loading due to centripetal acceleration (rho*omega^2*x_i)\n",
    "x = SpatialCoordinate(mesh)\n",
    "vol = CellVolume(mesh)\n",
    "# f = as_vector((0.0, 0.0, -rho*vol))\n",
    "f = Constant(mesh, ScalarType((0, 0, -rho*1.1*12)))\n",
    "\n",
    "# Elasticity parameters\n",
    "E = 1.0e9\n",
    "nu = 0.0\n",
    "mu = E / (2.0 * (1.0 + nu))\n",
    "lmbda = E * nu / ((1.0 + nu) * (1.0 - 2.0 * nu))\n",
    "\n",
    "\n",
    "def epsilon(u):\n",
    "    return ufl.sym(ufl.grad(u)) # Equivalent to 0.5*(ufl.nabla_grad(u) + ufl.nabla_grad(u).T)\n",
    "def sigma(u):\n",
    "    return lmbda * ufl.nabla_div(u) * ufl.Identity(u.geometric_dimension()) + 2*mu*epsilon(u)\n",
    "\n",
    "from petsc4py.PETSc import ScalarType\n",
    "T = Constant(mesh, ScalarType((0, 0, 0)))\n",
    "ds = ufl.Measure(\"ds\", domain=mesh) # displacement\n",
    "# Create function space\n",
    "V = VectorFunctionSpace(mesh, (\"Lagrange\", 1))\n",
    "\n",
    "# Define variational problem\n",
    "u = TrialFunction(V)\n",
    "v = TestFunction(V)\n",
    "a = inner(sigma(u), grad(v)) * dx\n",
    "# L = inner(f, v) * dx\n",
    "L = inner(f, v) * ufl.dx + inner(T, v) * ds"
   ]
  },
  {
   "cell_type": "markdown",
   "metadata": {},
   "source": [
    "# Apply the boundary condition\n",
    "Apply a Dirichlet(fixed) boundary condition to the x and y dimensions of the facets using the np.isclose command to filter through the domain"
   ]
  },
  {
   "cell_type": "code",
   "execution_count": 5,
   "metadata": {},
   "outputs": [],
   "source": [
    "def clamped_boundary(x):\n",
    "    return (np.isclose(x[0], 0)) | (np.isclose(x[0],2.0)) | (np.isclose(x[1],1.0)) | (np.isclose(x[1],0.0))\n",
    "\n",
    "fdim = mesh.topology.dim - 1\n",
    "boundary_facets = locate_entities_boundary(mesh, fdim, clamped_boundary)\n",
    "\n",
    "u_D = Function(V)\n",
    "u_D.x.array[:] = 0\n",
    "bc = DirichletBC(u_D, locate_dofs_topological(V, fdim, boundary_facets))"
   ]
  },
  {
   "cell_type": "code",
   "execution_count": 14,
   "metadata": {},
   "outputs": [],
   "source": [
    "problem = LinearProblem(a, L, bcs=[bc], petsc_options={\"ksp_type\": \"preonly\", \"pc_type\": \"lu\",'pc_factor_mat_solver_type': 'mumps'})\n",
    "uh = problem.solve()"
   ]
  },
  {
   "cell_type": "code",
   "execution_count": 15,
   "metadata": {},
   "outputs": [
    {
     "data": {
      "application/vnd.jupyter.widget-view+json": {
       "model_id": "3c2b75bf4d7042a5bb1af974b9214985",
       "version_major": 2,
       "version_minor": 0
      },
      "text/plain": [
       "ViewInteractiveWidget(height=800, layout=Layout(height='auto', width='100%'), width=800)"
      ]
     },
     "metadata": {},
     "output_type": "display_data"
    }
   ],
   "source": [
    "import pyvista\n",
    "from dolfinx.plot import create_vtk_topology\n",
    "# Start xvfb for rendering plots\n",
    "pyvista.start_xvfb(wait=0.05)\n",
    "\n",
    "# Create plotter and pyvista grid\n",
    "p = pyvista.Plotter(title=\"Deflection\", window_size=[800, 800])\n",
    "topology, cell_types = create_vtk_topology(mesh, mesh.topology.dim)\n",
    "grid = pyvista.UnstructuredGrid(topology, cell_types, mesh.geometry.x)\n",
    "\n",
    "# Attach vector values to grid and warp grid by vector\n",
    "grid[\"u\"] = uh.compute_point_values().real \n",
    "actor_0 = p.add_mesh(grid, style=\"wireframe\", color=\"k\")\n",
    "warped = grid.warp_by_vector(\"u\", factor=1.5)\n",
    "actor_1 = p.add_mesh(warped)\n",
    "p.show_axes()\n",
    "if not pyvista.OFF_SCREEN:\n",
    "   p.show()\n",
    "else:\n",
    "    figure_as_array = p.screenshot(\"deflection.png\")"
   ]
  }
 ],
 "metadata": {
  "kernelspec": {
   "display_name": "Python 3",
   "language": "python",
   "name": "python3"
  },
  "language_info": {
   "codemirror_mode": {
    "name": "ipython",
    "version": 3
   },
   "file_extension": ".py",
   "mimetype": "text/x-python",
   "name": "python",
   "nbconvert_exporter": "python",
   "pygments_lexer": "ipython3",
   "version": "3.6.9"
  }
 },
 "nbformat": 4,
 "nbformat_minor": 5
}
