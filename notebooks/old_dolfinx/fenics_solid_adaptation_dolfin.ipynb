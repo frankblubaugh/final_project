{
 "cells": [
  {
   "cell_type": "markdown",
   "id": "b838061d",
   "metadata": {},
   "source": [
    "# Plate eigenmode with dolfin\n",
    "\n",
    "this is the same approach for the same topic but using dolfin instead of dolfinx\n",
    "\n",
    "This needs to be run using the project:shells image"
   ]
  },
  {
   "cell_type": "code",
   "execution_count": 1,
   "id": "0d5cd3c5",
   "metadata": {},
   "outputs": [],
   "source": [
    "from dolfin import *\n",
    "import dolfin\n",
    "import matplotlib.pyplot as plt\n",
    "import numpy as np"
   ]
  },
  {
   "cell_type": "code",
   "execution_count": 2,
   "id": "3567a47b",
   "metadata": {},
   "outputs": [],
   "source": [
    "\n",
    "# --------------------\n",
    "# Functions and classes\n",
    "# --------------------\n",
    "# Strain function\n",
    "def epsilon(u):\n",
    "    return 0.5*(dolfin.nabla_grad(u) + dolfin.nabla_grad(u).T)\n",
    "\n",
    "# Stress function\n",
    "def sigma(u):\n",
    "    return lmbda*dolfin.div(u)*dolfin.Identity(3) + 2*mu*epsilon(u)\n"
   ]
  },
  {
   "cell_type": "code",
   "execution_count": 3,
   "id": "a3101fe4",
   "metadata": {},
   "outputs": [],
   "source": [
    "\n",
    "# --------------------\n",
    "# Parameters\n",
    "# --------------------\n",
    "# Young modulus, poisson number and density\n",
    "E, nu = 70.0E9, 0.23\n",
    "rho = 2500.0\n",
    "\n",
    "# Lame's constants\n",
    "mu = E/2./(1+nu)\n",
    "lmbda = E*nu/(1+nu)/(1-2*nu)\n",
    "\n",
    "l_x, l_y, l_z = 1.0, 1.0, 0.01  # Domain dimensions\n",
    "n_x, n_y, n_z = 20, 20, 2  # Number of elements\n"
   ]
  },
  {
   "cell_type": "code",
   "execution_count": 4,
   "id": "5be5bef7",
   "metadata": {},
   "outputs": [],
   "source": [
    "# --------------------\n",
    "# Geometry\n",
    "# --------------------\n",
    "mesh = dolfin.BoxMesh(dolfin.Point(0.0, 0.0, 0.0), dolfin.Point(l_x, l_y, l_z), n_x, n_y, n_z)\n"
   ]
  },
  {
   "cell_type": "code",
   "execution_count": 5,
   "id": "0df94e02",
   "metadata": {},
   "outputs": [
    {
     "name": "stdout",
     "output_type": "stream",
     "text": [
      "Calling FFC just-in-time (JIT) compiler, this may take some time.\n",
      "Calling FFC just-in-time (JIT) compiler, this may take some time.\n"
     ]
    }
   ],
   "source": [
    "# --------------------\n",
    "# Function spaces\n",
    "# --------------------\n",
    "V = dolfin.VectorFunctionSpace(mesh, \"CG\", 2)\n",
    "u_tr = dolfin.TrialFunction(V)\n",
    "u_test = dolfin.TestFunction(V)"
   ]
  },
  {
   "cell_type": "code",
   "execution_count": 6,
   "id": "8f847da3",
   "metadata": {},
   "outputs": [],
   "source": [
    "\n",
    "# --------------------\n",
    "# Forms & matrices\n",
    "# --------------------\n",
    "a_form = dolfin.inner(sigma(u_tr), epsilon(u_test))*dolfin.dx\n",
    "m_form = rho*dolfin.inner(u_tr, u_test)*dolfin.dx\n",
    "\n"
   ]
  },
  {
   "cell_type": "code",
   "execution_count": 7,
   "id": "841ac9b0",
   "metadata": {},
   "outputs": [
    {
     "name": "stdout",
     "output_type": "stream",
     "text": [
      "Calling FFC just-in-time (JIT) compiler, this may take some time.\n",
      "Calling FFC just-in-time (JIT) compiler, this may take some time.\n",
      "Calling FFC just-in-time (JIT) compiler, this may take some time.\n",
      "Calling FFC just-in-time (JIT) compiler, this may take some time.\n",
      "Calling FFC just-in-time (JIT) compiler, this may take some time.\n",
      "Calling FFC just-in-time (JIT) compiler, this may take some time.\n",
      "Calling FFC just-in-time (JIT) compiler, this may take some time.\n"
     ]
    }
   ],
   "source": [
    "A = dolfin.PETScMatrix()\n",
    "M = dolfin.PETScMatrix()\n",
    "A = dolfin.assemble(a_form, tensor=A)\n",
    "M = dolfin.assemble(m_form, tensor=M)"
   ]
  },
  {
   "cell_type": "code",
   "execution_count": 12,
   "id": "6e895909",
   "metadata": {},
   "outputs": [],
   "source": [
    "A_mat = A.mat()\n",
    "M_mat = M.mat()"
   ]
  },
  {
   "cell_type": "code",
   "execution_count": 13,
   "id": "30ed754c",
   "metadata": {},
   "outputs": [],
   "source": [
    "ki, kj, kv = A_mat.getValuesCSR()\n",
    "Mi,Mj,Mv = M_mat.getValuesCSR() "
   ]
  },
  {
   "cell_type": "code",
   "execution_count": 14,
   "id": "42c31647",
   "metadata": {},
   "outputs": [],
   "source": [
    "# kmat_numpy = kmat_numpy.getDenseArray()\n",
    "import scipy.linalg as splg\n",
    "from scipy.sparse import linalg\n",
    "import scipy.sparse as spsparse"
   ]
  },
  {
   "cell_type": "code",
   "execution_count": 15,
   "id": "970b8869",
   "metadata": {},
   "outputs": [],
   "source": [
    "Ksparse = spsparse.csr_matrix((kv,kj,ki))\n",
    "Msparse = spsparse.csr_matrix((Mv,Mj,Mi))"
   ]
  },
  {
   "cell_type": "code",
   "execution_count": 20,
   "id": "d4345a3d",
   "metadata": {},
   "outputs": [
    {
     "name": "stdout",
     "output_type": "stream",
     "text": [
      "False\n",
      "True\n"
     ]
    }
   ],
   "source": [
    "# check if symmetric\n",
    "print((np.abs(Ksparse - Ksparse.T)>1e-10).nnz == 0)\n",
    "print((np.abs(Msparse - Msparse.T)>1e-10).nnz == 0)"
   ]
  },
  {
   "cell_type": "code",
   "execution_count": null,
   "id": "835d6758",
   "metadata": {},
   "outputs": [],
   "source": [
    "%time w,v = spsparse.linalg.eigs(Ksparse,15,Msparse,which='SM')"
   ]
  },
  {
   "cell_type": "code",
   "execution_count": 23,
   "id": "cd286f16",
   "metadata": {},
   "outputs": [
    {
     "data": {
      "text/plain": [
       "array([  1.15648940e+14+0.j,   1.15648940e+14+0.j,   1.11477255e+14+0.j,\n",
       "         1.11477255e+14+0.j,   1.09768241e+14+0.j,   1.09768241e+14+0.j,\n",
       "         1.09219833e+14+0.j,   1.09219833e+14+0.j,   1.08627738e+14+0.j,\n",
       "         1.08627950e+14+0.j,   1.08487504e+14+0.j,   1.08487245e+14+0.j,\n",
       "         1.08453609e+14+0.j,   1.08458344e+14+0.j,   1.08458226e+14+0.j])"
      ]
     },
     "execution_count": 23,
     "metadata": {},
     "output_type": "execute_result"
    }
   ],
   "source": [
    "w"
   ]
  },
  {
   "cell_type": "code",
   "execution_count": 8,
   "id": "e0fbd0ae",
   "metadata": {},
   "outputs": [],
   "source": [
    "# --------------------\n",
    "# Eigen-solver\n",
    "# --------------------\n",
    "# dolfin.PETScOptions.set(\"eps_view\")\n",
    "eigensolver = dolfin.SLEPcEigenSolver(A, M)"
   ]
  },
  {
   "cell_type": "code",
   "execution_count": 9,
   "id": "6e9ec277",
   "metadata": {},
   "outputs": [],
   "source": [
    "eigensolver.parameters[\"problem_type\"] = \"gen_hermitian\"\n",
    "eigensolver.parameters[\"spectrum\"] = \"smallest real\"\n",
    "eigensolver.parameters[\"spectral_transform\"] = \"shift-and-invert\"\n",
    "eigensolver.parameters[\"spectral_shift\"] = 100.0"
   ]
  },
  {
   "cell_type": "code",
   "execution_count": 10,
   "id": "0b3257b6",
   "metadata": {},
   "outputs": [],
   "source": [
    "N_eig = 12   # number of eigenvalues\n",
    "%time eigensolver.solve(N_eig)"
   ]
  },
  {
   "cell_type": "code",
   "execution_count": 11,
   "id": "16e6d5d1",
   "metadata": {},
   "outputs": [
    {
     "data": {
      "text/plain": [
       "0"
      ]
     },
     "execution_count": 11,
     "metadata": {},
     "output_type": "execute_result"
    }
   ],
   "source": [
    "eigensolver.get_number_converged()"
   ]
  },
  {
   "cell_type": "code",
   "execution_count": 12,
   "id": "ad0013f8",
   "metadata": {},
   "outputs": [
    {
     "ename": "NameError",
     "evalue": "name 'Msparse' is not defined",
     "output_type": "error",
     "traceback": [
      "\u001b[0;31m---------------------------------------------------------------------------\u001b[0m",
      "\u001b[0;31mNameError\u001b[0m                                 Traceback (most recent call last)",
      "\u001b[0;32m<ipython-input-12-7fc08aba3667>\u001b[0m in \u001b[0;36m<module>\u001b[0;34m\u001b[0m\n\u001b[0;32m----> 1\u001b[0;31m \u001b[0mMsparse\u001b[0m\u001b[0;34m[\u001b[0m\u001b[0;36m15\u001b[0m\u001b[0;34m,\u001b[0m\u001b[0;36m12\u001b[0m\u001b[0;34m]\u001b[0m\u001b[0;34m\u001b[0m\u001b[0;34m\u001b[0m\u001b[0m\n\u001b[0m",
      "\u001b[0;31mNameError\u001b[0m: name 'Msparse' is not defined"
     ]
    }
   ],
   "source": [
    "Msparse[15,12]"
   ]
  },
  {
   "cell_type": "code",
   "execution_count": 13,
   "id": "178464fb",
   "metadata": {},
   "outputs": [
    {
     "ename": "RuntimeError",
     "evalue": "\n\n*** -------------------------------------------------------------------------\n*** DOLFIN encountered an error. If you are not able to resolve this issue\n*** using the information listed below, you can ask for help at\n***\n***     fenics-support@googlegroups.com\n***\n*** Remember to include the error message listed below and, if possible,\n*** include a *minimal* running example to reproduce the error.\n***\n*** -------------------------------------------------------------------------\n*** Error:   Unable to extract eigenpair from SLEPc eigenvalue solver.\n*** Reason:  Requested eigenpair (0) has not been computed.\n*** Where:   This error was encountered inside SLEPcEigenSolver.cpp.\n*** Process: 0\n*** \n*** DOLFIN version: 2019.1.0\n*** Git changeset:  74d7efe1e84d65e9433fd96c50f1d278fa3e3f3f\n*** -------------------------------------------------------------------------\n",
     "output_type": "error",
     "traceback": [
      "\u001b[0;31m---------------------------------------------------------------------------\u001b[0m",
      "\u001b[0;31mRuntimeError\u001b[0m                              Traceback (most recent call last)",
      "\u001b[0;32m<ipython-input-13-e2e68fe8f15c>\u001b[0m in \u001b[0;36m<module>\u001b[0;34m\u001b[0m\n\u001b[1;32m      6\u001b[0m     \u001b[0;31m# rx - real part of eigenvector\u001b[0m\u001b[0;34m\u001b[0m\u001b[0;34m\u001b[0m\u001b[0;34m\u001b[0m\u001b[0m\n\u001b[1;32m      7\u001b[0m     \u001b[0;31m# cx - imaginary part of eigenvector\u001b[0m\u001b[0;34m\u001b[0m\u001b[0;34m\u001b[0m\u001b[0;34m\u001b[0m\u001b[0m\n\u001b[0;32m----> 8\u001b[0;31m     \u001b[0mr\u001b[0m\u001b[0;34m,\u001b[0m \u001b[0mc\u001b[0m\u001b[0;34m,\u001b[0m \u001b[0mrx\u001b[0m\u001b[0;34m,\u001b[0m \u001b[0mcx\u001b[0m \u001b[0;34m=\u001b[0m \u001b[0meigensolver\u001b[0m\u001b[0;34m.\u001b[0m\u001b[0mget_eigenpair\u001b[0m\u001b[0;34m(\u001b[0m\u001b[0mi\u001b[0m\u001b[0;34m)\u001b[0m\u001b[0;34m\u001b[0m\u001b[0;34m\u001b[0m\u001b[0m\n\u001b[0m\u001b[1;32m      9\u001b[0m \u001b[0;34m\u001b[0m\u001b[0m\n\u001b[1;32m     10\u001b[0m     \u001b[0;31m# Calculation of eigenfrequency from real part of eigenvalue\u001b[0m\u001b[0;34m\u001b[0m\u001b[0;34m\u001b[0m\u001b[0;34m\u001b[0m\u001b[0m\n",
      "\u001b[0;31mRuntimeError\u001b[0m: \n\n*** -------------------------------------------------------------------------\n*** DOLFIN encountered an error. If you are not able to resolve this issue\n*** using the information listed below, you can ask for help at\n***\n***     fenics-support@googlegroups.com\n***\n*** Remember to include the error message listed below and, if possible,\n*** include a *minimal* running example to reproduce the error.\n***\n*** -------------------------------------------------------------------------\n*** Error:   Unable to extract eigenpair from SLEPc eigenvalue solver.\n*** Reason:  Requested eigenpair (0) has not been computed.\n*** Where:   This error was encountered inside SLEPcEigenSolver.cpp.\n*** Process: 0\n*** \n*** DOLFIN version: 2019.1.0\n*** Git changeset:  74d7efe1e84d65e9433fd96c50f1d278fa3e3f3f\n*** -------------------------------------------------------------------------\n"
     ]
    }
   ],
   "source": [
    "# Eigenfrequencies\n",
    "for i in range(0, N_eig):\n",
    "    # Get i-th eigenvalue and eigenvector\n",
    "    # r - real part of eigenvalue\n",
    "    # c - imaginary part of eigenvalue\n",
    "    # rx - real part of eigenvector\n",
    "    # cx - imaginary part of eigenvector\n",
    "    r, c, rx, cx = eigensolver.get_eigenpair(i)\n",
    "\n",
    "    # Calculation of eigenfrequency from real part of eigenvalue\n",
    "    freq_3D = fe.sqrt(r)/2/fe.pi\n",
    "    print(\"Eigenfrequency: {0:8.5f} [Hz]\".format(freq_3D))\n",
    "\n",
    "    # # Initialize function and assign eigenvector\n",
    "    # eigenmode = fe.Function(V, name=\"Eigenvector \" + str(i))\n",
    "    # eigenmode.vector()[:] = rx\n"
   ]
  },
  {
   "cell_type": "code",
   "execution_count": null,
   "id": "8633ac55",
   "metadata": {},
   "outputs": [],
   "source": []
  }
 ],
 "metadata": {
  "kernelspec": {
   "display_name": "Python 3 (ipykernel)",
   "language": "python",
   "name": "python3"
  },
  "language_info": {
   "codemirror_mode": {
    "name": "ipython",
    "version": 3
   },
   "file_extension": ".py",
   "mimetype": "text/x-python",
   "name": "python",
   "nbconvert_exporter": "python",
   "pygments_lexer": "ipython3",
   "version": "3.9.7"
  }
 },
 "nbformat": 4,
 "nbformat_minor": 5
}
