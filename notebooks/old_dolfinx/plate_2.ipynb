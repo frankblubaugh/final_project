{
 "cells": [
  {
   "cell_type": "code",
   "execution_count": 95,
   "id": "c674a2ee-9419-4fe7-a307-77bd4b9303ba",
   "metadata": {},
   "outputs": [],
   "source": [
    "import numpy as np\n",
    "from mpi4py import MPI\n",
    "\n",
    "from dolfinx.mesh import CellType, create_box, locate_entities_boundary\n",
    "from dolfinx.fem import (Constant, DirichletBC, Function, LinearProblem, FunctionSpace, VectorFunctionSpace, \n",
    "                         locate_dofs_topological)\n",
    "from ufl import (Identity, SpatialCoordinate, TestFunction, TrialFunction,\n",
    "                 as_vector, dx, grad, inner, sym, tr)\n",
    "import dolfinx"
   ]
  },
  {
   "cell_type": "code",
   "execution_count": 124,
   "id": "89fcc68e-ab5e-403f-9321-06f0f118131b",
   "metadata": {},
   "outputs": [],
   "source": [
    "# Scaled variable\n",
    "L = 1 #m\n",
    "W = 0.2 #m\n",
    "mu = 1\n",
    "rho = 2500 #kg/m^3\n",
    "delta = W/L\n",
    "gamma = 0.4*delta**2\n",
    "# Elasticity parameters\n",
    "\n",
    "E = 70e9\n",
    "nu = 0.2\n",
    "mu = E / (2.0 * (1.0 + nu))\n",
    "lambda_ = E * nu / ((1.0 + nu) * (1.0 - 2.0 * nu))\n",
    "g = 9.8 #acceleration due to gravity\n",
    "omega=1\n",
    "mesh = create_box(MPI.COMM_WORLD, [np.array([0,0,0]), np.array([L, W, W])],\n",
    "                  [20,6,6], cell_type=CellType.hexahedron)\n",
    "V = VectorFunctionSpace(mesh, (\"CG\", 1))"
   ]
  },
  {
   "cell_type": "code",
   "execution_count": 126,
   "id": "28d0d4fa-7d7e-450e-985b-e073ad9cc896",
   "metadata": {},
   "outputs": [
    {
     "ename": "TypeError",
     "evalue": "'<' not supported between instances of 'Mesh' and 'Mesh'",
     "output_type": "error",
     "traceback": [
      "\u001b[0;31m---------------------------------------------------------------------------\u001b[0m",
      "\u001b[0;31mTypeError\u001b[0m                                 Traceback (most recent call last)",
      "\u001b[0;32m/tmp/ipykernel_15/616279132.py\u001b[0m in \u001b[0;36m<module>\u001b[0;34m\u001b[0m\n\u001b[1;32m     11\u001b[0m \u001b[0mv\u001b[0m \u001b[0;34m=\u001b[0m \u001b[0mTestFunction\u001b[0m\u001b[0;34m(\u001b[0m\u001b[0mV\u001b[0m\u001b[0;34m)\u001b[0m\u001b[0;34m\u001b[0m\u001b[0;34m\u001b[0m\u001b[0m\n\u001b[1;32m     12\u001b[0m \u001b[0ma\u001b[0m \u001b[0;34m=\u001b[0m \u001b[0minner\u001b[0m\u001b[0;34m(\u001b[0m\u001b[0msigma\u001b[0m\u001b[0;34m(\u001b[0m\u001b[0mu\u001b[0m\u001b[0;34m)\u001b[0m\u001b[0;34m,\u001b[0m \u001b[0mgrad\u001b[0m\u001b[0;34m(\u001b[0m\u001b[0mv\u001b[0m\u001b[0;34m)\u001b[0m\u001b[0;34m)\u001b[0m \u001b[0;34m*\u001b[0m \u001b[0mdx\u001b[0m\u001b[0;34m\u001b[0m\u001b[0;34m\u001b[0m\u001b[0m\n\u001b[0;32m---> 13\u001b[0;31m \u001b[0mL\u001b[0m \u001b[0;34m=\u001b[0m \u001b[0minner\u001b[0m\u001b[0;34m(\u001b[0m\u001b[0mf\u001b[0m\u001b[0;34m,\u001b[0m \u001b[0mv\u001b[0m\u001b[0;34m)\u001b[0m \u001b[0;34m*\u001b[0m \u001b[0mdx\u001b[0m\u001b[0;34m\u001b[0m\u001b[0;34m\u001b[0m\u001b[0m\n\u001b[0m",
      "\u001b[0;32m/usr/local/lib/python3.9/dist-packages/ufl/measure.py\u001b[0m in \u001b[0;36m__rmul__\u001b[0;34m(self, integrand)\u001b[0m\n\u001b[1;32m    426\u001b[0m         \u001b[0mdomain\u001b[0m \u001b[0;34m=\u001b[0m \u001b[0mself\u001b[0m\u001b[0;34m.\u001b[0m\u001b[0mufl_domain\u001b[0m\u001b[0;34m(\u001b[0m\u001b[0;34m)\u001b[0m\u001b[0;34m\u001b[0m\u001b[0;34m\u001b[0m\u001b[0m\n\u001b[1;32m    427\u001b[0m         \u001b[0;32mif\u001b[0m \u001b[0mdomain\u001b[0m \u001b[0;32mis\u001b[0m \u001b[0;32mNone\u001b[0m\u001b[0;34m:\u001b[0m\u001b[0;34m\u001b[0m\u001b[0;34m\u001b[0m\u001b[0m\n\u001b[0;32m--> 428\u001b[0;31m             \u001b[0mdomains\u001b[0m \u001b[0;34m=\u001b[0m \u001b[0mextract_domains\u001b[0m\u001b[0;34m(\u001b[0m\u001b[0mintegrand\u001b[0m\u001b[0;34m)\u001b[0m\u001b[0;34m\u001b[0m\u001b[0;34m\u001b[0m\u001b[0m\n\u001b[0m\u001b[1;32m    429\u001b[0m             \u001b[0;32mif\u001b[0m \u001b[0mlen\u001b[0m\u001b[0;34m(\u001b[0m\u001b[0mdomains\u001b[0m\u001b[0;34m)\u001b[0m \u001b[0;34m==\u001b[0m \u001b[0;36m1\u001b[0m\u001b[0;34m:\u001b[0m\u001b[0;34m\u001b[0m\u001b[0;34m\u001b[0m\u001b[0m\n\u001b[1;32m    430\u001b[0m                 \u001b[0mdomain\u001b[0m\u001b[0;34m,\u001b[0m \u001b[0;34m=\u001b[0m \u001b[0mdomains\u001b[0m\u001b[0;34m\u001b[0m\u001b[0;34m\u001b[0m\u001b[0m\n",
      "\u001b[0;32m/usr/local/lib/python3.9/dist-packages/ufl/domain.py\u001b[0m in \u001b[0;36mextract_domains\u001b[0;34m(expr)\u001b[0m\n\u001b[1;32m    341\u001b[0m     \u001b[0;32mfor\u001b[0m \u001b[0mt\u001b[0m \u001b[0;32min\u001b[0m \u001b[0mtraverse_unique_terminals\u001b[0m\u001b[0;34m(\u001b[0m\u001b[0mexpr\u001b[0m\u001b[0;34m)\u001b[0m\u001b[0;34m:\u001b[0m\u001b[0;34m\u001b[0m\u001b[0;34m\u001b[0m\u001b[0m\n\u001b[1;32m    342\u001b[0m         \u001b[0mdomainlist\u001b[0m\u001b[0;34m.\u001b[0m\u001b[0mextend\u001b[0m\u001b[0;34m(\u001b[0m\u001b[0mt\u001b[0m\u001b[0;34m.\u001b[0m\u001b[0mufl_domains\u001b[0m\u001b[0;34m(\u001b[0m\u001b[0;34m)\u001b[0m\u001b[0;34m)\u001b[0m\u001b[0;34m\u001b[0m\u001b[0;34m\u001b[0m\u001b[0m\n\u001b[0;32m--> 343\u001b[0;31m     \u001b[0;32mreturn\u001b[0m \u001b[0msorted\u001b[0m\u001b[0;34m(\u001b[0m\u001b[0mjoin_domains\u001b[0m\u001b[0;34m(\u001b[0m\u001b[0mdomainlist\u001b[0m\u001b[0;34m)\u001b[0m\u001b[0;34m)\u001b[0m\u001b[0;34m\u001b[0m\u001b[0;34m\u001b[0m\u001b[0m\n\u001b[0m\u001b[1;32m    344\u001b[0m \u001b[0;34m\u001b[0m\u001b[0m\n\u001b[1;32m    345\u001b[0m \u001b[0;34m\u001b[0m\u001b[0m\n",
      "\u001b[0;31mTypeError\u001b[0m: '<' not supported between instances of 'Mesh' and 'Mesh'"
     ]
    }
   ],
   "source": [
    "\n",
    "def sigma(v):\n",
    "    return 2.0 * mu * sym(grad(v)) + lambda_ * tr(sym(grad(v))) * Identity(\n",
    "        len(v))\n",
    "\n",
    "\n",
    "# Create function space\n",
    "V = VectorFunctionSpace(mesh, (\"Lagrange\", 1))\n",
    "\n",
    "# Define variational problem\n",
    "u = TrialFunction(V)\n",
    "v = TestFunction(V)\n",
    "a = inner(sigma(u), grad(v)) * dx\n",
    "L = inner(f, v) * dx"
   ]
  },
  {
   "cell_type": "code",
   "execution_count": 60,
   "id": "9c016a9d-2b5a-49c7-bd0d-85bec8b623cc",
   "metadata": {},
   "outputs": [],
   "source": [
    "def cell_vol(mesh,g_indicies,c):\n",
    "    return np.prod(np.abs(mesh.geometry.x[g_indices[c][0]] - mesh.geometry.x[g_indices[c]][7]))**(1/3)"
   ]
  },
  {
   "cell_type": "code",
   "execution_count": 103,
   "id": "4e495885-c87c-4436-a5cd-9444e6b3b8ba",
   "metadata": {},
   "outputs": [],
   "source": [
    "x = SpatialCoordinate(mesh)\n",
    "f = as_vector((rho * omega**2 * x[0], rho * omega**2 * x[1], 0.0))\n"
   ]
  },
  {
   "cell_type": "code",
   "execution_count": 73,
   "id": "3df6099e-5274-48f8-86fd-3339b63c2f41",
   "metadata": {},
   "outputs": [],
   "source": [
    "# determine mass for the individual units and apply that as a local force in the -z direction\n",
    "num_cells = mesh.topology.index_map(mesh.topology.dim).size_local\n",
    "g_indices = dolfinx.cpp.mesh.entities_to_geometry(\n",
    "    mesh, mesh.topology.dim, np.arange(num_cells, dtype=np.int32), False)\n",
    "mass_values = []\n",
    "for c in range(num_cells):\n",
    "    mass_values.append(rho*cell_vol(mesh,g_indices,c))\n",
    "mass_values=np.array(mass_values)"
   ]
  },
  {
   "cell_type": "code",
   "execution_count": 65,
   "id": "65942cbe-4753-4c95-a74a-4ebb1aa826cb",
   "metadata": {},
   "outputs": [],
   "source": [
    "def clamped_boundary(x):\n",
    "    return np.isclose(x[0], 0)\n",
    "\n",
    "fdim = mesh.topology.dim - 1\n",
    "boundary_facets = locate_entities_boundary(mesh, fdim, clamped_boundary)\n",
    "\n",
    "u_D = Function(V)\n",
    "u_D.x.array[:] = 0\n",
    "bc = DirichletBC(u_D, locate_dofs_topological(V, fdim, boundary_facets))"
   ]
  },
  {
   "cell_type": "code",
   "execution_count": 66,
   "id": "2c9cb6d5-79ef-47e6-84d1-f1822245bafa",
   "metadata": {},
   "outputs": [],
   "source": [
    "from petsc4py.PETSc import ScalarType\n",
    "T = Constant(mesh, ScalarType((0, 0, 0)))"
   ]
  },
  {
   "cell_type": "code",
   "execution_count": 67,
   "id": "42f43153-c943-4c25-a495-fce61c202e0e",
   "metadata": {},
   "outputs": [],
   "source": [
    "import ufl\n",
    "ds = ufl.Measure(\"ds\", domain=mesh) # displacement"
   ]
  },
  {
   "cell_type": "code",
   "execution_count": 93,
   "id": "437d7037-3f07-47ef-86b2-d3bfdb2bf4d9",
   "metadata": {},
   "outputs": [
    {
     "data": {
      "text/plain": [
       "(720,)"
      ]
     },
     "execution_count": 93,
     "metadata": {},
     "output_type": "execute_result"
    }
   ],
   "source": [
    "# build vector for fenics\n",
    "ff = Constant(mesh,ScalarType((np.zeros_like(mass_values),np.zeros_like(mass_values),mass_values)))\n"
   ]
  },
  {
   "cell_type": "code",
   "execution_count": 68,
   "id": "f3d621ea-9e44-4c11-834d-b27c298f51e5",
   "metadata": {},
   "outputs": [],
   "source": [
    "def epsilon(u):\n",
    "    return ufl.sym(ufl.grad(u)) # Equivalent to 0.5*(ufl.nabla_grad(u) + ufl.nabla_grad(u).T)\n",
    "def sigma(u):\n",
    "    return lambda_ * ufl.nabla_div(u) * ufl.Identity(u.geometric_dimension()) + 2*mu*epsilon(u)\n",
    "\n",
    "# set up elastic equations\n",
    "u = ufl.TrialFunction(V)\n",
    "v = ufl.TestFunction(V)\n",
    "# define the input force\n",
    "f = Constant(mesh, ScalarType((0, 0, -rho*g)))\n",
    "# set up the solution\n",
    "a = ufl.inner(sigma(u), epsilon(v)) * ufl.dx\n",
    "# ???? apply the solution displacement I guess?\n",
    "L = ufl.dot(f, v) * ufl.dx + ufl.dot(T, v) * ds"
   ]
  },
  {
   "cell_type": "code",
   "execution_count": 69,
   "id": "5175e11a-ef7e-47c2-a73a-01afbecddebd",
   "metadata": {},
   "outputs": [],
   "source": [
    "problem = LinearProblem(a, L, bcs=[bc], petsc_options={\"ksp_type\": \"preonly\", \"pc_type\": \"lu\"})\n",
    "uh = problem.solve()"
   ]
  },
  {
   "cell_type": "code",
   "execution_count": 70,
   "id": "4af87977-045d-429d-8e30-ef2ee2666321",
   "metadata": {},
   "outputs": [
    {
     "data": {
      "application/vnd.jupyter.widget-view+json": {
       "model_id": "a5074194082b451b925290a35a577f80",
       "version_major": 2,
       "version_minor": 0
      },
      "text/plain": [
       "ViewInteractiveWidget(height=800, layout=Layout(height='auto', width='100%'), width=800)"
      ]
     },
     "metadata": {},
     "output_type": "display_data"
    }
   ],
   "source": [
    "import pyvista\n",
    "from dolfinx.plot import create_vtk_topology\n",
    "# Start xvfb for rendering plots\n",
    "pyvista.start_xvfb(wait=0.05)\n",
    "\n",
    "# Create plotter and pyvista grid\n",
    "p = pyvista.Plotter(title=\"Deflection\", window_size=[800, 800])\n",
    "topology, cell_types = create_vtk_topology(mesh, mesh.topology.dim)\n",
    "grid = pyvista.UnstructuredGrid(topology, cell_types, mesh.geometry.x)\n",
    "\n",
    "# Attach vector values to grid and warp grid by vector\n",
    "grid[\"u\"] = uh.compute_point_values().real \n",
    "actor_0 = p.add_mesh(grid, style=\"wireframe\", color=\"k\")\n",
    "warped = grid.warp_by_vector(\"u\", factor=1.5)\n",
    "actor_1 = p.add_mesh(warped)\n",
    "p.show_axes()\n",
    "if not pyvista.OFF_SCREEN:\n",
    "   p.show()\n",
    "else:\n",
    "    figure_as_array = p.screenshot(\"deflection.png\")"
   ]
  }
 ],
 "metadata": {
  "kernelspec": {
   "display_name": "Python 3 (ipykernel)",
   "language": "python",
   "name": "python3"
  },
  "language_info": {
   "codemirror_mode": {
    "name": "ipython",
    "version": 3
   },
   "file_extension": ".py",
   "mimetype": "text/x-python",
   "name": "python",
   "nbconvert_exporter": "python",
   "pygments_lexer": "ipython3",
   "version": "3.9.7"
  }
 },
 "nbformat": 4,
 "nbformat_minor": 5
}
