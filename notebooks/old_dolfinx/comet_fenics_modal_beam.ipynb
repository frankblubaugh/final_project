{
 "cells": [
  {
   "cell_type": "code",
   "execution_count": 1,
   "metadata": {},
   "outputs": [],
   "source": [
    "from dolfin import *\n",
    "import numpy as np\n",
    "\n",
    "L, B, H = 1., 1., 0.01\n",
    "\n",
    "Nx = 20\n",
    "Ny = 20\n",
    "Nz = 5\n",
    "\n",
    "mesh = BoxMesh(Point(0.,0.,0.),Point(L,B,H), Nx, Ny, Nz)"
   ]
  },
  {
   "cell_type": "code",
   "execution_count": 2,
   "metadata": {},
   "outputs": [],
   "source": [
    "E, nu = Constant(1e5), Constant(0.)\n",
    "rho = Constant(1e-3)\n",
    "\n",
    "# Lame coefficient for constitutive relation\n",
    "mu = E/2./(1+nu)\n",
    "lmbda = E*nu/(1+nu)/(1-2*nu)\n",
    "\n",
    "def eps(v):\n",
    "    return sym(grad(v))\n",
    "def sigma(v):\n",
    "    dim = v.geometric_dimension()\n",
    "    return 2.0*mu*eps(v) + lmbda*tr(eps(v))*Identity(dim)"
   ]
  },
  {
   "cell_type": "code",
   "execution_count": 3,
   "metadata": {},
   "outputs": [],
   "source": [
    "V = VectorFunctionSpace(mesh, 'Lagrange', degree=1)\n",
    "u_ = TrialFunction(V)\n",
    "du = TestFunction(V)\n",
    "\n",
    "\n",
    "def left(x, on_boundary):\n",
    "    return near(x[0],0.)\n",
    "\n",
    "bc = DirichletBC(V, Constant((0.,0.,0.)), left)"
   ]
  },
  {
   "cell_type": "code",
   "execution_count": 4,
   "metadata": {},
   "outputs": [
    {
     "data": {
      "text/plain": [
       "<dolfin.cpp.la.PETScMatrix at 0x7ff7041cc570>"
      ]
     },
     "execution_count": 4,
     "metadata": {},
     "output_type": "execute_result"
    }
   ],
   "source": [
    "k_form = inner(sigma(du),eps(u_))*dx\n",
    "l_form = Constant(1.)*u_[0]*dx\n",
    "K = PETScMatrix()\n",
    "b = PETScVector()\n",
    "assemble_system(k_form, l_form, bc, A_tensor=K, b_tensor=b)\n",
    "\n",
    "m_form = rho*dot(du,u_)*dx\n",
    "M = PETScMatrix()\n",
    "assemble(m_form, tensor=M)"
   ]
  },
  {
   "cell_type": "code",
   "execution_count": 5,
   "metadata": {},
   "outputs": [],
   "source": [
    "eigensolver = SLEPcEigenSolver(K, M)\n",
    "eigensolver.parameters['problem_type'] = 'gen_hermitian'\n",
    "eigensolver.parameters['spectral_transform'] = 'shift-and-invert'\n",
    "eigensolver.parameters['spectral_shift'] = 0."
   ]
  },
  {
   "cell_type": "code",
   "execution_count": null,
   "metadata": {},
   "outputs": [],
   "source": [
    "N_eig = 6   # number of eigenvalues\n",
    "print(\"Computing {} first eigenvalues...\".format(N_eig))\n",
    "eigensolver.solve(N_eig)\n"
   ]
  },
  {
   "cell_type": "code",
   "execution_count": 18,
   "metadata": {},
   "outputs": [
    {
     "data": {
      "text/plain": [
       "10"
      ]
     },
     "execution_count": 18,
     "metadata": {},
     "output_type": "execute_result"
    }
   ],
   "source": [
    "eigensolver.get_number_converged()"
   ]
  },
  {
   "cell_type": "code",
   "execution_count": 11,
   "metadata": {},
   "outputs": [],
   "source": [
    "# # solve mode shapes beam theory\n",
    "# # Exact solution computation\n",
    "# from scipy.optimize import root\n",
    "# from math import cos, cosh\n",
    "# falpha = lambda x: cos(x)*cosh(x)+1\n",
    "# alpha = lambda n: root(falpha, (2*n+1)*pi/2.)['x'][0]"
   ]
  },
  {
   "cell_type": "code",
   "execution_count": 20,
   "metadata": {},
   "outputs": [
    {
     "name": "stdout",
     "output_type": "stream",
     "text": [
      " Solid FEM: 2.131 Hz; Beam Theory :70.866 Hz\n",
      " Solid FEM: 4.095 Hz; Beam Theory :70.866 Hz\n",
      " Solid FEM: 13.321 Hz; Beam Theory :70.866 Hz\n",
      " Solid FEM: 25.414 Hz; Beam Theory :70.866 Hz\n",
      " Solid FEM: 37.151 Hz; Beam Theory :70.866 Hz\n",
      " Solid FEM: 69.976 Hz; Beam Theory :70.866 Hz\n"
     ]
    }
   ],
   "source": [
    "for i in range(N_eig):\n",
    "    # Extract eigenpair\n",
    "    r, c, rx, cx = eigensolver.get_eigenpair(i)\n",
    "\n",
    "    # 3D eigenfrequency\n",
    "    freq_3D = sqrt(r)/2/pi\n",
    "#     # Beam eigenfrequency\n",
    "#     if i % 2 == 0: # exact solution should correspond to weak axis bending\n",
    "#         I_bend = H*B**3/12.\n",
    "#     else:          #exact solution should correspond to strong axis bending\n",
    "#         I_bend = B*H**3/12.\n",
    "#     freq_beam = alpha(i/2)**2*sqrt(float(E)*I_bend/(float(rho)*B*H*L**4))/2/pi\n",
    "#     print(f\" Solid FEM: {freq_3D:.3f} Hz; Beam Theory :{freq_beam:.3f} Hz\")\n",
    "    print(f\"Sold FEM: {freq_3D:.3f}\")"
   ]
  }
 ],
 "metadata": {
  "kernelspec": {
   "display_name": "Python 3 (ipykernel)",
   "language": "python",
   "name": "python3"
  },
  "language_info": {
   "codemirror_mode": {
    "name": "ipython",
    "version": 3
   },
   "file_extension": ".py",
   "mimetype": "text/x-python",
   "name": "python",
   "nbconvert_exporter": "python",
   "pygments_lexer": "ipython3",
   "version": "3.9.7"
  }
 },
 "nbformat": 4,
 "nbformat_minor": 4
}
