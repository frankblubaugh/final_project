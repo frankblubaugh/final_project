{
 "cells": [
  {
   "cell_type": "code",
   "execution_count": 1,
   "metadata": {
    "tags": []
   },
   "outputs": [],
   "source": [
    "from dolfinx import *\n",
    "import numpy as np\n",
    "from contextlib import ExitStack\n",
    "import dolfinx\n",
    "import numpy as np\n",
    "\n",
    "from dolfinx import la\n",
    "from dolfinx.fem import (DirichletBC, Function, VectorFunctionSpace,\n",
    "                         apply_lifting, assemble_matrix, assemble_vector,\n",
    "                         locate_dofs_geometrical, set_bc)\n",
    "from dolfinx.io import XDMFFile\n",
    "from dolfinx.mesh import CellType, GhostMode, create_box\n",
    "from ufl import (Identity, SpatialCoordinate, TestFunction, TrialFunction,\n",
    "                 as_vector, dx, grad, inner, sym, tr)\n",
    "import ufl\n",
    "from mpi4py import MPI\n",
    "from petsc4py import PETSc\n",
    "from slepc4py import SLEPc\n"
   ]
  },
  {
   "cell_type": "code",
   "execution_count": 2,
   "metadata": {},
   "outputs": [],
   "source": [
    "mesh = create_box(\n",
    "    MPI.COMM_WORLD, [np.array([0.0, 0.0, 0.0]),\n",
    "                     np.array([1.0, 1.0, 0.01])], [20, 20, 2],\n",
    "    CellType.tetrahedron, GhostMode.shared_facet)"
   ]
  },
  {
   "cell_type": "code",
   "execution_count": 3,
   "metadata": {},
   "outputs": [],
   "source": [
    "\n",
    "# Elasticity parameters\n",
    "E = 70e9\n",
    "nu = 0.23\n",
    "rho = 2500\n",
    "mu = E / (2.0 * (1.0 + nu))\n",
    "lmbda = E * nu / ((1.0 + nu) * (1.0 - 2.0 * nu))"
   ]
  },
  {
   "cell_type": "code",
   "execution_count": 4,
   "metadata": {},
   "outputs": [],
   "source": [
    "# Create function space\n",
    "V = VectorFunctionSpace(mesh, (\"Lagrange\", 1))\n",
    "\n",
    "# Define variational problem\n",
    "u_tr = TrialFunction(V)\n",
    "u_test = TestFunction(V)\n"
   ]
  },
  {
   "cell_type": "code",
   "execution_count": 5,
   "metadata": {},
   "outputs": [],
   "source": [
    "#strain function\n",
    "def epsilon(u):\n",
    "    return 0.5*(ufl.nabla_grad(u)+ufl.nabla_grad(u).T)\n",
    "# stress function\n",
    "def sigma(u):\n",
    "    return lmbda * ufl.div(u)*ufl.Identity(3)+2*mu*epsilon(u)"
   ]
  },
  {
   "cell_type": "code",
   "execution_count": 6,
   "metadata": {},
   "outputs": [],
   "source": [
    "# forms and matricis\n",
    "a_form = ufl.inner(sigma(u_tr),epsilon(u_test))*ufl.dx\n",
    "m_form = rho*ufl.inner(u_tr,u_test)*ufl.dx"
   ]
  },
  {
   "cell_type": "code",
   "execution_count": 13,
   "metadata": {},
   "outputs": [],
   "source": [
    "K_mat = dolfinx.fem.assemble_matrix(a_form)\n",
    "K_mat.assemble()\n"
   ]
  },
  {
   "cell_type": "code",
   "execution_count": 14,
   "metadata": {},
   "outputs": [],
   "source": [
    "M_mat = dolfinx.fem.assemble_matrix(m_form)\n",
    "M_mat.assemble()"
   ]
  },
  {
   "cell_type": "code",
   "execution_count": 15,
   "metadata": {},
   "outputs": [
    {
     "data": {
      "text/plain": [
       "(25215, 25215)"
      ]
     },
     "execution_count": 15,
     "metadata": {},
     "output_type": "execute_result"
    }
   ],
   "source": [
    "K_mat.getSize()"
   ]
  },
  {
   "cell_type": "code",
   "execution_count": 16,
   "metadata": {},
   "outputs": [],
   "source": [
    "ki, kj, kv = K_mat.getValuesCSR()\n",
    "Mi,Mj,Mv = M_mat.getValuesCSR() "
   ]
  },
  {
   "cell_type": "code",
   "execution_count": 17,
   "metadata": {},
   "outputs": [],
   "source": [
    "# kmat_numpy = kmat_numpy.getDenseArray()\n",
    "import scipy.linalg as splg\n",
    "from scipy.sparse import linalg\n",
    "import scipy.sparse as spsparse"
   ]
  },
  {
   "cell_type": "code",
   "execution_count": 18,
   "metadata": {},
   "outputs": [],
   "source": [
    "Ksparse = spsparse.csr_matrix((kv,kj,ki))\n",
    "Msparse = spsparse.csr_matrix((Mv,Mj,Mi))"
   ]
  },
  {
   "cell_type": "code",
   "execution_count": 19,
   "metadata": {},
   "outputs": [
    {
     "name": "stdout",
     "output_type": "stream",
     "text": [
      "False\n",
      "True\n"
     ]
    }
   ],
   "source": [
    "# check if symmetric\n",
    "print((np.abs(Ksparse - Ksparse.T)>1e-10).nnz == 0)\n",
    "print((np.abs(Msparse - Msparse.T)>1e-10).nnz == 0)"
   ]
  },
  {
   "cell_type": "code",
   "execution_count": 22,
   "metadata": {},
   "outputs": [
    {
     "name": "stdout",
     "output_type": "stream",
     "text": [
      "EPS Object: 1 MPI processes\n",
      "  type: krylovschur\n",
      "    0% of basis vectors kept after restart\n",
      "    using the locking variant\n",
      "  problem type: not yet set\n",
      "  selected portion of the spectrum: smallest eigenvalues in magnitude\n",
      "  postprocessing eigenvectors with purification\n",
      "  number of eigenvalues (nev): 10\n",
      "  number of column vectors (ncv): -2\n",
      "  maximum dimension of projected problem (mpd): -2\n",
      "  maximum number of iterations: -2\n",
      "  tolerance: -2.\n",
      "  convergence test: relative to the eigenvalue\n",
      "BV Object: 1 MPI processes\n",
      "  type: svec\n",
      "  0 columns of global length -1\n",
      "  vector orthogonalization method: classical Gram-Schmidt\n",
      "  orthogonalization refinement: if needed (eta: 0.7071)\n",
      "  block orthogonalization method: GS\n",
      "  doing matmult as a single matrix-matrix product\n",
      "DS Object: 1 MPI processes\n",
      "  type: nhep\n",
      "ST Object: 1 MPI processes\n",
      "  type: shift\n",
      "  shift: 0.\n",
      "  number of matrices: 2\n",
      "  all matrices have unknown nonzero pattern\n",
      "  KSP Object: (st_) 1 MPI processes\n",
      "    type: preonly\n",
      "    maximum iterations=10000, initial guess is zero\n",
      "    tolerances:  relative=1e-08, absolute=1e-50, divergence=10000.\n",
      "    left preconditioning\n",
      "    using DEFAULT norm type for convergence test\n",
      "  PC Object: (st_) 1 MPI processes\n",
      "    type: lu\n",
      "    PC has not been set up so information may be incomplete\n",
      "      out-of-place factorization\n",
      "      tolerance for zero pivot 2.22045e-14\n"
     ]
    }
   ],
   "source": [
    "# set up eigensolver parameters\n",
    "eigensolver = SLEPc.EPS().create(MPI.COMM_WORLD)\n",
    "eigensolver.setOperators(K_mat,M_mat)\n",
    "eigensolver.setDimensions(nev=10) # returns 10 values\n",
    "# eigensolver.setProblemType(2) # Generalized Hermitian Eigensolver Problem\n",
    "eigensolver.setWhichEigenpairs(2) # smallest eigenvalues\n",
    "eigensolver.setFromOptions() # applies options\n",
    "eigensolver.view() # checks results\n"
   ]
  },
  {
   "cell_type": "code",
   "execution_count": null,
   "metadata": {},
   "outputs": [],
   "source": [
    "%time eigensolver.solve()"
   ]
  }
 ],
 "metadata": {
  "kernelspec": {
   "display_name": "Python 3 (ipykernel)",
   "language": "python",
   "name": "python3"
  },
  "language_info": {
   "codemirror_mode": {
    "name": "ipython",
    "version": 3
   },
   "file_extension": ".py",
   "mimetype": "text/x-python",
   "name": "python",
   "nbconvert_exporter": "python",
   "pygments_lexer": "ipython3",
   "version": "3.9.7"
  }
 },
 "nbformat": 4,
 "nbformat_minor": 4
}
