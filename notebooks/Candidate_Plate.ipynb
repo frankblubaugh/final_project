{
 "cells": [
  {
   "cell_type": "markdown",
   "metadata": {},
   "source": [
    "# Plate modal analysis\n",
    "\n",
    "This modal analysis of a plate works and draws off of a gmsh value to produce the modal analysis. This was confirmed by modeling the NAFEMS plate from the UK in 1990 and confirming the results"
   ]
  },
  {
   "cell_type": "markdown",
   "metadata": {},
   "source": [
    "# Notes\n",
    "- Gmsh must be installed and has been added to the docker file\n",
    "- Only really works in dolfin not dolfinx. this is due to the lack of a good assembly with the boundary conditions needed for the problem"
   ]
  },
  {
   "cell_type": "code",
   "execution_count": 1,
   "metadata": {},
   "outputs": [
    {
     "name": "stdout",
     "output_type": "stream",
     "text": [
      "rank: 0; size:1\n"
     ]
    }
   ],
   "source": [
    "# import stuff\n",
    "\n",
    "\n",
    "from dolfin import *\n",
    "import dolfin\n",
    "comm = dolfin.cpp.MPI.comm_world\n",
    "rank = comm.Get_rank()\n",
    "size = comm.Get_size()\n",
    "print(f\"rank: {rank}; size:{size}\")\n",
    "import petsc4py\n",
    "import numpy as np\n",
    "import time\n",
    "import matplotlib.pyplot as plt\n",
    "import vedo\n",
    "# %matplotlib notebook\n",
    "parameters[\"form_compiler\"][\"cpp_optimize\"] = True\n",
    "parameters[\"form_compiler\"][\"optimize\"] = True"
   ]
  },
  {
   "cell_type": "code",
   "execution_count": 2,
   "metadata": {},
   "outputs": [],
   "source": [
    "\n",
    "\n",
    "# load in gmsh\n",
    "mesh = Mesh(comm,\"../mesh/extruded_box_panel_200.xml\")\n",
    "# # In[2]:\n",
    "\n",
    "E, nu = Constant(200e9), Constant(0.3)\n",
    "rho = Constant(8000)\n"
   ]
  },
  {
   "cell_type": "code",
   "execution_count": 5,
   "metadata": {},
   "outputs": [],
   "source": [
    "\n",
    "# Lame coefficient for constitutive relation\n",
    "mu = E/2./(1+nu)\n",
    "lmbda = E*nu/(1+nu)/(1-2*nu)\n",
    "\n",
    "def eps(v):\n",
    "    return sym(grad(v))\n",
    "\n",
    "def sigma(v):\n",
    "    dim = v.geometric_dimension()\n",
    "    return 2.0*mu*eps(v) + lmbda*tr(eps(v))*Identity(dim)\n",
    "\n"
   ]
  },
  {
   "cell_type": "code",
   "execution_count": 6,
   "metadata": {},
   "outputs": [],
   "source": [
    "\n",
    "V = VectorFunctionSpace(mesh, 'Lagrange', degree=1)\n",
    "u_ = TrialFunction(V)\n",
    "du = TestFunction(V)"
   ]
  },
  {
   "cell_type": "markdown",
   "metadata": {},
   "source": [
    "## Notes on Boundary Condition\n",
    "\n",
    "The simply supported boundary condition (Z =0) is applied to the third subspace of the function space. V.sub(2)"
   ]
  },
  {
   "cell_type": "code",
   "execution_count": 7,
   "metadata": {},
   "outputs": [],
   "source": [
    "\n",
    "def simply_supported(x,on_boundary):\n",
    "    return on_boundary and (near(x[0],0.0) | near(x[0],1.0)| near(x[1],0.0)| near(x[1],1.0))\n",
    "\n",
    "\n",
    "\n",
    "bc = DirichletBC(V.sub(2),Constant((0.)), simply_supported)\n",
    "\n"
   ]
  },
  {
   "cell_type": "markdown",
   "metadata": {},
   "source": [
    "## Notes on building system\n",
    "There are known symmetry issues with building the system with the K matrix. This solves them for uknown reasons"
   ]
  },
  {
   "cell_type": "code",
   "execution_count": 8,
   "metadata": {},
   "outputs": [
    {
     "data": {
      "text/plain": [
       "(<dolfin.cpp.la.PETScMatrix at 0x7fba89874e08>,\n",
       " <dolfin.cpp.la.PETScVector at 0x7fba89874e60>)"
      ]
     },
     "execution_count": 8,
     "metadata": {},
     "output_type": "execute_result"
    }
   ],
   "source": [
    "\n",
    "\n",
    "k_form = inner(sigma(du),eps(u_))*dx\n",
    "l_form = Constant(1.)*u_[0]*dx\n",
    "K = PETScMatrix(comm)\n",
    "b = PETScVector(comm)\n",
    "assemble_system(k_form, l_form,bc, A_tensor=K, b_tensor=b)\n"
   ]
  },
  {
   "cell_type": "code",
   "execution_count": 9,
   "metadata": {},
   "outputs": [],
   "source": [
    "\n",
    "m_form = rho*dot(du,u_)*dx\n",
    "M = PETScMatrix(comm)\n",
    "assemble(m_form, tensor=M)\n",
    "bc.zero(M)\n"
   ]
  },
  {
   "cell_type": "code",
   "execution_count": 10,
   "metadata": {},
   "outputs": [],
   "source": [
    "\n",
    "\n",
    "eigensolver = SLEPcEigenSolver(K,M)\n",
    "eigensolver.parameters['problem_type'] = 'gen_hermitian'\n",
    "eigensolver.parameters['spectral_transform'] = 'shift-and-invert'\n",
    "eigensolver.parameters['spectral_shift'] = 600.\n",
    "eigensolver.parameters['maximum_iterations'] = 500000\n"
   ]
  },
  {
   "cell_type": "code",
   "execution_count": 11,
   "metadata": {},
   "outputs": [
    {
     "name": "stdout",
     "output_type": "stream",
     "text": [
      "Computing 50 first eigenvalues...\n",
      "elapsed time: 1.9637473999755457\n",
      "N Solutions Found: 51\n"
     ]
    }
   ],
   "source": [
    "\n",
    "N_eig = 50   # number of eigenvalues\n",
    "print(\"Computing {} first eigenvalues...\".format(N_eig))\n",
    "start = time.perf_counter()\n",
    "eigensolver.solve(N_eig)\n",
    "print(f\"elapsed time: {time.perf_counter()-start}\")\n",
    "print(f\"N Solutions Found: {eigensolver.get_number_converged()}\")\n"
   ]
  },
  {
   "cell_type": "code",
   "execution_count": 10,
   "metadata": {},
   "outputs": [],
   "source": [
    "eigensolver.parameters['tolerance']"
   ]
  },
  {
   "cell_type": "code",
   "execution_count": 12,
   "metadata": {},
   "outputs": [
    {
     "name": "stdout",
     "output_type": "stream",
     "text": [
      "Solid FEM: 0.001 Hz\n",
      "Solid FEM: 0.001 Hz\n",
      "Solid FEM: 0.001 Hz\n",
      "Solid FEM: 125.136 Hz\n",
      "Solid FEM: 312.596 Hz\n",
      "Solid FEM: 313.546 Hz\n",
      "Solid FEM: 497.776 Hz\n",
      "Solid FEM: 624.845 Hz\n",
      "Solid FEM: 627.431 Hz\n",
      "Solid FEM: 807.156 Hz\n",
      "Solid FEM: 809.040 Hz\n",
      "Solid FEM: 1058.695 Hz\n",
      "Solid FEM: 1061.548 Hz\n",
      "Solid FEM: 1115.200 Hz\n",
      "Solid FEM: 1239.115 Hz\n",
      "Solid FEM: 1241.018 Hz\n",
      "Solid FEM: 1539.154 Hz\n",
      "Solid FEM: 1544.644 Hz\n",
      "Solid FEM: 1610.379 Hz\n",
      "Solid FEM: 1615.635 Hz\n",
      "Solid FEM: 1787.523 Hz\n",
      "Solid FEM: 1790.593 Hz\n",
      "Solid FEM: 1937.026 Hz\n",
      "Solid FEM: 1964.902 Hz\n",
      "Solid FEM: 2067.983 Hz\n",
      "Solid FEM: 2068.164 Hz\n",
      "Solid FEM: 2086.386 Hz\n",
      "Solid FEM: 2093.092 Hz\n",
      "Solid FEM: 2193.173 Hz\n",
      "Solid FEM: 2277.453 Hz\n",
      "Solid FEM: 2286.683 Hz\n",
      "Solid FEM: 2454.592 Hz\n",
      "Solid FEM: 2457.784 Hz\n",
      "Solid FEM: 2498.473 Hz\n",
      "Solid FEM: 2504.319 Hz\n",
      "Solid FEM: 2509.310 Hz\n",
      "Solid FEM: 2748.289 Hz\n",
      "Solid FEM: 2753.883 Hz\n",
      "Solid FEM: 2882.616 Hz\n",
      "Solid FEM: 3034.756 Hz\n",
      "Solid FEM: 3055.350 Hz\n",
      "Solid FEM: 3069.629 Hz\n",
      "Solid FEM: 3110.719 Hz\n",
      "Solid FEM: 3111.420 Hz\n",
      "Solid FEM: 3155.911 Hz\n",
      "Solid FEM: 3163.872 Hz\n",
      "Solid FEM: 3230.624 Hz\n",
      "Solid FEM: 3234.585 Hz\n",
      "Solid FEM: 3519.335 Hz\n",
      "Solid FEM: 3530.114 Hz\n"
     ]
    }
   ],
   "source": [
    "\n",
    "if rank == 0:\n",
    "    for i in range(N_eig):\n",
    "        # Extract eigenpair\n",
    "        r, c, rx, cx = eigensolver.get_eigenpair(i)\n",
    "        # 3D eigenfrequency\n",
    "        freq_2D = sqrt(r)/2/pi\n",
    "        print(f\"Solid FEM: {freq_2D:.3f} Hz\")\n",
    "\n"
   ]
  },
  {
   "cell_type": "code",
   "execution_count": 13,
   "metadata": {},
   "outputs": [],
   "source": [
    "import pyvista as pv\n",
    "from vedo import Box\n",
    "import vedo\n",
    "vedo.embedWindow(False)\n",
    "pv.start_xvfb()"
   ]
  },
  {
   "cell_type": "code",
   "execution_count": 14,
   "metadata": {},
   "outputs": [
    {
     "name": "stdout",
     "output_type": "stream",
     "text": []
    },
    {
     "name": "stdout",
     "output_type": "stream",
     "text": []
    },
    {
     "name": "stdout",
     "output_type": "stream",
     "text": []
    },
    {
     "name": "stdout",
     "output_type": "stream",
     "text": []
    },
    {
     "name": "stdout",
     "output_type": "stream",
     "text": []
    },
    {
     "name": "stdout",
     "output_type": "stream",
     "text": []
    },
    {
     "name": "stdout",
     "output_type": "stream",
     "text": []
    },
    {
     "name": "stdout",
     "output_type": "stream",
     "text": []
    },
    {
     "name": "stdout",
     "output_type": "stream",
     "text": []
    },
    {
     "name": "stdout",
     "output_type": "stream",
     "text": []
    },
    {
     "name": "stdout",
     "output_type": "stream",
     "text": []
    },
    {
     "name": "stdout",
     "output_type": "stream",
     "text": []
    },
    {
     "name": "stdout",
     "output_type": "stream",
     "text": []
    },
    {
     "name": "stdout",
     "output_type": "stream",
     "text": []
    },
    {
     "name": "stdout",
     "output_type": "stream",
     "text": []
    },
    {
     "name": "stdout",
     "output_type": "stream",
     "text": []
    },
    {
     "name": "stdout",
     "output_type": "stream",
     "text": []
    },
    {
     "name": "stdout",
     "output_type": "stream",
     "text": []
    },
    {
     "name": "stdout",
     "output_type": "stream",
     "text": []
    },
    {
     "name": "stdout",
     "output_type": "stream",
     "text": []
    },
    {
     "name": "stdout",
     "output_type": "stream",
     "text": []
    },
    {
     "name": "stdout",
     "output_type": "stream",
     "text": []
    },
    {
     "name": "stdout",
     "output_type": "stream",
     "text": []
    },
    {
     "name": "stdout",
     "output_type": "stream",
     "text": []
    },
    {
     "name": "stdout",
     "output_type": "stream",
     "text": []
    },
    {
     "name": "stdout",
     "output_type": "stream",
     "text": []
    },
    {
     "name": "stdout",
     "output_type": "stream",
     "text": []
    },
    {
     "name": "stdout",
     "output_type": "stream",
     "text": []
    },
    {
     "name": "stdout",
     "output_type": "stream",
     "text": []
    },
    {
     "name": "stdout",
     "output_type": "stream",
     "text": []
    },
    {
     "name": "stdout",
     "output_type": "stream",
     "text": []
    },
    {
     "name": "stdout",
     "output_type": "stream",
     "text": []
    },
    {
     "name": "stdout",
     "output_type": "stream",
     "text": []
    },
    {
     "name": "stdout",
     "output_type": "stream",
     "text": []
    },
    {
     "name": "stdout",
     "output_type": "stream",
     "text": []
    },
    {
     "name": "stdout",
     "output_type": "stream",
     "text": []
    },
    {
     "name": "stdout",
     "output_type": "stream",
     "text": []
    },
    {
     "name": "stdout",
     "output_type": "stream",
     "text": []
    },
    {
     "name": "stdout",
     "output_type": "stream",
     "text": []
    },
    {
     "name": "stdout",
     "output_type": "stream",
     "text": []
    },
    {
     "name": "stdout",
     "output_type": "stream",
     "text": []
    },
    {
     "name": "stdout",
     "output_type": "stream",
     "text": []
    },
    {
     "name": "stdout",
     "output_type": "stream",
     "text": []
    },
    {
     "name": "stdout",
     "output_type": "stream",
     "text": []
    },
    {
     "name": "stdout",
     "output_type": "stream",
     "text": []
    },
    {
     "name": "stdout",
     "output_type": "stream",
     "text": []
    },
    {
     "name": "stdout",
     "output_type": "stream",
     "text": []
    },
    {
     "name": "stdout",
     "output_type": "stream",
     "text": []
    },
    {
     "name": "stdout",
     "output_type": "stream",
     "text": []
    },
    {
     "name": "stdout",
     "output_type": "stream",
     "text": []
    },
    {
     "name": "stdout",
     "output_type": "stream",
     "text": []
    },
    {
     "name": "stdout",
     "output_type": "stream",
     "text": []
    },
    {
     "name": "stdout",
     "output_type": "stream",
     "text": []
    },
    {
     "name": "stdout",
     "output_type": "stream",
     "text": []
    },
    {
     "name": "stdout",
     "output_type": "stream",
     "text": []
    },
    {
     "name": "stdout",
     "output_type": "stream",
     "text": []
    },
    {
     "name": "stdout",
     "output_type": "stream",
     "text": []
    },
    {
     "name": "stdout",
     "output_type": "stream",
     "text": []
    },
    {
     "name": "stdout",
     "output_type": "stream",
     "text": []
    },
    {
     "name": "stdout",
     "output_type": "stream",
     "text": []
    },
    {
     "name": "stdout",
     "output_type": "stream",
     "text": []
    },
    {
     "name": "stdout",
     "output_type": "stream",
     "text": []
    },
    {
     "name": "stdout",
     "output_type": "stream",
     "text": []
    },
    {
     "name": "stdout",
     "output_type": "stream",
     "text": []
    },
    {
     "name": "stdout",
     "output_type": "stream",
     "text": []
    },
    {
     "name": "stdout",
     "output_type": "stream",
     "text": []
    },
    {
     "name": "stdout",
     "output_type": "stream",
     "text": []
    },
    {
     "name": "stdout",
     "output_type": "stream",
     "text": []
    },
    {
     "name": "stdout",
     "output_type": "stream",
     "text": []
    },
    {
     "name": "stdout",
     "output_type": "stream",
     "text": []
    },
    {
     "name": "stdout",
     "output_type": "stream",
     "text": []
    },
    {
     "name": "stdout",
     "output_type": "stream",
     "text": []
    },
    {
     "name": "stdout",
     "output_type": "stream",
     "text": []
    },
    {
     "name": "stdout",
     "output_type": "stream",
     "text": []
    },
    {
     "name": "stdout",
     "output_type": "stream",
     "text": []
    },
    {
     "name": "stdout",
     "output_type": "stream",
     "text": []
    },
    {
     "name": "stdout",
     "output_type": "stream",
     "text": []
    },
    {
     "name": "stdout",
     "output_type": "stream",
     "text": []
    },
    {
     "name": "stdout",
     "output_type": "stream",
     "text": []
    },
    {
     "name": "stdout",
     "output_type": "stream",
     "text": []
    },
    {
     "name": "stdout",
     "output_type": "stream",
     "text": []
    },
    {
     "name": "stdout",
     "output_type": "stream",
     "text": []
    },
    {
     "name": "stdout",
     "output_type": "stream",
     "text": []
    },
    {
     "name": "stdout",
     "output_type": "stream",
     "text": []
    },
    {
     "name": "stdout",
     "output_type": "stream",
     "text": []
    },
    {
     "name": "stdout",
     "output_type": "stream",
     "text": []
    },
    {
     "name": "stdout",
     "output_type": "stream",
     "text": []
    },
    {
     "name": "stdout",
     "output_type": "stream",
     "text": []
    },
    {
     "name": "stdout",
     "output_type": "stream",
     "text": []
    },
    {
     "name": "stdout",
     "output_type": "stream",
     "text": []
    },
    {
     "name": "stdout",
     "output_type": "stream",
     "text": []
    },
    {
     "name": "stdout",
     "output_type": "stream",
     "text": []
    },
    {
     "name": "stdout",
     "output_type": "stream",
     "text": []
    },
    {
     "name": "stdout",
     "output_type": "stream",
     "text": []
    },
    {
     "name": "stdout",
     "output_type": "stream",
     "text": []
    },
    {
     "name": "stdout",
     "output_type": "stream",
     "text": []
    },
    {
     "name": "stdout",
     "output_type": "stream",
     "text": []
    },
    {
     "name": "stdout",
     "output_type": "stream",
     "text": []
    },
    {
     "name": "stdout",
     "output_type": "stream",
     "text": []
    },
    {
     "name": "stdout",
     "output_type": "stream",
     "text": []
    },
    {
     "name": "stdout",
     "output_type": "stream",
     "text": []
    },
    {
     "name": "stdout",
     "output_type": "stream",
     "text": [
      "\n",
      " ━━━━━━━━━━━━━━━━━━━━━━\u001b[2m                     converting mesh...    \n",
      " ━━━━━━━━━━━━━━━━━━━━━━\u001b[2m                     converting mesh...    \n",
      " ━━━━━━━━━━━━━━━━━━━━━━\u001b[2m                     converting mesh...    \n",
      " ━━━━━━━━━━━━━━━━━━━━━━\u001b[2m                     converting mesh...    \n",
      " ━━━━━━━━━━━━━━━━━━━━━━\u001b[2m                     converting mesh...    \n",
      " ━━━━━━━━━━━━━━━━━━━━━━\u001b[2m                     converting mesh...    \n",
      " ━━━━━━━━━━━━━━━━━━━━━━\u001b[2m                     converting mesh...    \n",
      " ━━━━━━━━━━━━━━━━━━━━━━\u001b[2m                     converting mesh...    \n",
      " ━━━━━━━━━━━━━━━━━━━━━━\u001b[2m                     converting mesh...    \n",
      " ━━━━━━━━━━━━━━━━━━━━━━\u001b[2m                     converting mesh...    \n",
      " ━━━━━━━━━━━━━━━━━━━━━━\u001b[2m                     converting mesh...    \n",
      " ━━━━━━━━━━━━━━━━━━━━━━\u001b[2m                     converting mesh...    \n",
      " ━━━━━━━━━━━━━━━━━━━━━━\u001b[2m                     converting mesh...    \n",
      " ━━━━━━━━━━━━━━━━━━━━━━\u001b[2m                     converting mesh...    \n",
      " ━━━━━━━━━━━━━━━━━━━━━━\u001b[2m                     converting mesh...    \n",
      " ━━━━━━━━━━━━━━━━━━━━━━\u001b[2m                     converting mesh...    \n",
      " ━━━━━━━━━━━━━━━━━━━━━━\u001b[2m                     converting mesh...    \n",
      " ━━━━━━━━━━━━━━━━━━━━━━\u001b[2m                     converting mesh...    \n",
      " ━━━━━━━━━━━━━━━━━━━━━━\u001b[2m                     converting mesh...    \n",
      " ━━━━━━━━━━━━━━━━━━━━━━\u001b[2m                     converting mesh...    \n",
      " ━━━━━━━━━━━━━━━━━━━━━━\u001b[2m                     converting mesh...    \n",
      " ━━━━━━━━━━━━━━━━━━━━━━\u001b[2m                     converting mesh...    \n",
      " ━━━━━━━━━━━━━━━━━━━━━━\u001b[2m                     converting mesh...    \n",
      " ━━━━━━━━━━━━━━━━━━━━━━\u001b[2m                     converting mesh...    \n",
      " ━━━━━━━━━━━━━━━━━━━━━━\u001b[2m                     converting mesh...    \n",
      " ━━━━━━━━━━━━━━━━━━━━━━\u001b[2m                     converting mesh...    \n",
      " ━━━━━━━━━━━━━━━━━━━━━━\u001b[2m                     converting mesh...    \n",
      " ━━━━━━━━━━━━━━━━━━━━━━\u001b[2m                     converting mesh...    \n",
      " ━━━━━━━━━━━━━━━━━━━━━━\u001b[2m                     converting mesh...    \n",
      " ━━━━━━━━━━━━━━━━━━━━━━\u001b[2m                     converting mesh...    \n",
      " ━━━━━━━━━━━━━━━━━━━━━━\u001b[2m                     converting mesh...    \n",
      " ━━━━━━━━━━━━━━━━━━━━━━\u001b[2m                     converting mesh...    \n",
      " ━━━━━━━━━━━━━━━━━━━━━━\u001b[2m                     converting mesh...    \n",
      " ━━━━━━━━━━━━━━━━━━━━━━\u001b[2m                     converting mesh...    \n",
      " ━━━━━━━━━━━━━━━━━━━━━━\u001b[2m                     converting mesh...    \n",
      " ━━━━━━━━━━━━━━━━━━━━━━\u001b[2m                     converting mesh...    \n",
      " ━━━━━━━━━━━━━━━━━━━━━━\u001b[2m                     converting mesh...    \n",
      " ━━━━━━━━━━━━━━━━━━━━━━\u001b[2m                     converting mesh...    \n",
      " ━━━━━━━━━━━━━━━━━━━━━━\u001b[2m                     converting mesh...    \n",
      " ━━━━━━━━━━━━━━━━━━━━━━\u001b[2m                     converting mesh...    \n",
      " ━━━━━━━━━━━━━━━━━━━━━━\u001b[2m                     converting mesh...    \n",
      " ━━━━━━━━━━━━━━━━━━━━━━\u001b[2m                     converting mesh...    \n",
      " ━━━━━━━━━━━━━━━━━━━━━━\u001b[2m                     converting mesh...    \n",
      " ━━━━━━━━━━━━━━━━━━━━━━\u001b[2m                     converting mesh...    \n",
      " ━━━━━━━━━━━━━━━━━━━━━━\u001b[2m                     converting mesh...    \n",
      " ━━━━━━━━━━━━━━━━━━━━━━\u001b[2m                     converting mesh...    \n",
      " ━━━━━━━━━━━━━━━━━━━━━━\u001b[2m                     converting mesh...    \n",
      " ━━━━━━━━━━━━━━━━━━━━━━\u001b[2m                     converting mesh...    \n",
      " ━━━━━━━━━━━━━━━━━━━━━━\u001b[2m                     converting mesh...    \n"
     ]
    }
   ],
   "source": [
    "eigenmodes = []\n",
    "# box = Box(length=1, width=1, height=1).pos(0.5,0,0).wireframe()\n",
    "for i in range(N_eig):\n",
    "    # Extract eigenpair\n",
    "    r, c, rx, cx = eigensolver.get_eigenpair(i)\n",
    "\n",
    "    # 3D eigenfrequency\n",
    "    freq_3D = sqrt(r)/2/pi\n",
    "\n",
    "   \n",
    "    # Initialize function and assign eigenvector\n",
    "    eigenmode = Function(V,name=\"Eigenvector \"+str(i))\n",
    "    eigenmode.vector()[:] = rx\n",
    "\n",
    "#     eigenmodes.append(eigenmode)\n",
    "    vedo.dolfin.plot(eigenmode,offscreen=True)\n",
    "    vedo.screenshot(filename=f\"../data/Candidate_3d_Plate/Candidate_3D_PLATE_MODE_{i}_{freq_3D:.2f}_Hz\")\n",
    "\n",
    "#     file_results.write(eigenmode,0.)\n",
    "    "
   ]
  },
  {
   "cell_type": "code",
   "execution_count": 19,
   "metadata": {},
   "outputs": [
    {
     "data": {
      "text/plain": [
       "array([ 0.00014492,  0.0001105 ,  0.        , ..., -0.00009351,\n",
       "       -0.00009237,  0.        ])"
      ]
     },
     "execution_count": 19,
     "metadata": {},
     "output_type": "execute_result"
    }
   ],
   "source": [
    "eigenmode.vector()[:]"
   ]
  },
  {
   "cell_type": "code",
   "execution_count": null,
   "metadata": {},
   "outputs": [],
   "source": [
    "# visualie the data by exporting to file\n",
    "\n",
    "\n",
    "# file_results = XDMFFile(\"../data/modal_analysis.xdmf\")\n",
    "# file_results.parameters[\"flush_output\"] = True\n",
    "# file_results.parameters[\"functions_share_mesh\"] = True\n",
    "# file_results.write(eigenmode, 0.)\n"
   ]
  },
  {
   "cell_type": "markdown",
   "metadata": {},
   "source": [
    "# Visualization\n",
    "## Notes\n",
    "- Ne3eds to have vedo installed"
   ]
  },
  {
   "cell_type": "code",
   "execution_count": null,
   "metadata": {},
   "outputs": [],
   "source": []
  },
  {
   "cell_type": "code",
   "execution_count": null,
   "metadata": {},
   "outputs": [],
   "source": [
    "from vedo.dolfin import *\n",
    "from vedo import Box\n",
    "import vedo\n",
    "vedo.embedWindow(False)"
   ]
  },
  {
   "cell_type": "code",
   "execution_count": null,
   "metadata": {},
   "outputs": [],
   "source": [
    "# add a frame box\n"
   ]
  },
  {
   "cell_type": "code",
   "execution_count": null,
   "metadata": {},
   "outputs": [],
   "source": [
    "# iterate over the modes nadp lot them\n",
    "\n",
    "for idx,mode in enumerate(eigenmodes):\n",
    "        \n",
    "    vedo.dolfin.plot(mode,box,offscreen=True)\n",
    "    vedo.screenshot(filename=f\"../data/NAFEMS_PLATE_MODE_{idx}\")\n"
   ]
  },
  {
   "cell_type": "code",
   "execution_count": null,
   "metadata": {},
   "outputs": [],
   "source": []
  },
  {
   "cell_type": "code",
   "execution_count": null,
   "metadata": {},
   "outputs": [],
   "source": []
  },
  {
   "cell_type": "code",
   "execution_count": null,
   "metadata": {},
   "outputs": [],
   "source": []
  }
 ],
 "metadata": {
  "kernelspec": {
   "display_name": "Python 3",
   "language": "python",
   "name": "python3"
  },
  "language_info": {
   "codemirror_mode": {
    "name": "ipython",
    "version": 3
   },
   "file_extension": ".py",
   "mimetype": "text/x-python",
   "name": "python",
   "nbconvert_exporter": "python",
   "pygments_lexer": "ipython3",
   "version": "3.6.9"
  }
 },
 "nbformat": 4,
 "nbformat_minor": 4
}
