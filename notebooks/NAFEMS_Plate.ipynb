{
 "cells": [
  {
   "cell_type": "markdown",
   "metadata": {},
   "source": [
    "# Plate modal analysis\n",
    "\n",
    "This modal analysis of a plate works and draws off of a gmsh value to produce the modal analysis. This was confirmed by modeling the NAFEMS plate from the UK in 1990 and confirming the results"
   ]
  },
  {
   "cell_type": "markdown",
   "metadata": {},
   "source": [
    "# Notes\n",
    "- Gmsh must be installed and has been added to the docker file\n",
    "- Only really works in dolfin not dolfinx. this is due to the lack of a good assembly with the boundary conditions needed for the problem"
   ]
  },
  {
   "cell_type": "code",
   "execution_count": 3,
   "metadata": {},
   "outputs": [
    {
     "name": "stdout",
     "output_type": "stream",
     "text": [
      "rank: 0; size:1\n"
     ]
    }
   ],
   "source": [
    "# import stuff\n",
    "\n",
    "\n",
    "from dolfin import *\n",
    "import dolfin\n",
    "comm = dolfin.cpp.MPI.comm_world\n",
    "rank = comm.Get_rank()\n",
    "size = comm.Get_size()\n",
    "print(f\"rank: {rank}; size:{size}\")\n",
    "import petsc4py\n",
    "import numpy as np\n",
    "import time\n",
    "import matplotlib.pyplot as plt\n",
    "# %matplotlib notebook\n",
    "parameters[\"form_compiler\"][\"cpp_optimize\"] = True\n",
    "parameters[\"form_compiler\"][\"optimize\"] = True"
   ]
  },
  {
   "cell_type": "code",
   "execution_count": 5,
   "metadata": {},
   "outputs": [],
   "source": [
    "\n",
    "\n",
    "# load in gmsh\n",
    "mesh = Mesh(comm,\"../mesh/extruded_box_panel.xml\")\n",
    "# # In[2]:\n",
    "\n",
    "E, nu = Constant(200e9), Constant(0.3)\n",
    "rho = Constant(8000)\n"
   ]
  },
  {
   "cell_type": "code",
   "execution_count": 6,
   "metadata": {},
   "outputs": [],
   "source": [
    "\n",
    "# Lame coefficient for constitutive relation\n",
    "mu = E/2./(1+nu)\n",
    "lmbda = E*nu/(1+nu)/(1-2*nu)\n",
    "\n",
    "def eps(v):\n",
    "    return sym(grad(v))\n",
    "\n",
    "def sigma(v):\n",
    "    dim = v.geometric_dimension()\n",
    "    return 2.0*mu*eps(v) + lmbda*tr(eps(v))*Identity(dim)\n",
    "\n"
   ]
  },
  {
   "cell_type": "code",
   "execution_count": 7,
   "metadata": {},
   "outputs": [],
   "source": [
    "\n",
    "V = VectorFunctionSpace(mesh, 'Lagrange', degree=1)\n",
    "u_ = TrialFunction(V)\n",
    "du = TestFunction(V)"
   ]
  },
  {
   "cell_type": "markdown",
   "metadata": {},
   "source": [
    "## Notes on Boundary Condition\n",
    "\n",
    "The simply supported boundary condition (Z =0) is applied to the third subspace of the function space. V.sub(2)"
   ]
  },
  {
   "cell_type": "code",
   "execution_count": 8,
   "metadata": {},
   "outputs": [],
   "source": [
    "\n",
    "def simply_supported(x,on_boundary):\n",
    "    return on_boundary and (near(x[0],0.0) | near(x[0],1.0)| near(x[1],0.0)| near(x[1],1.0))\n",
    "\n",
    "\n",
    "\n",
    "bc = DirichletBC(V.sub(2),Constant((0.)), simply_supported)\n",
    "\n"
   ]
  },
  {
   "cell_type": "markdown",
   "metadata": {},
   "source": [
    "## Notes on building system\n",
    "There are known symmetry issues with building the system with the K matrix. This solves them for uknown reasons"
   ]
  },
  {
   "cell_type": "code",
   "execution_count": 9,
   "metadata": {},
   "outputs": [
    {
     "data": {
      "text/plain": [
       "(<dolfin.cpp.la.PETScMatrix at 0x7f40d506bb48>,\n",
       " <dolfin.cpp.la.PETScVector at 0x7f40d506bba0>)"
      ]
     },
     "execution_count": 9,
     "metadata": {},
     "output_type": "execute_result"
    }
   ],
   "source": [
    "\n",
    "\n",
    "k_form = inner(sigma(du),eps(u_))*dx\n",
    "l_form = Constant(1.)*u_[0]*dx\n",
    "K = PETScMatrix(comm)\n",
    "b = PETScVector(comm)\n",
    "assemble_system(k_form, l_form,bc, A_tensor=K, b_tensor=b)\n"
   ]
  },
  {
   "cell_type": "code",
   "execution_count": 10,
   "metadata": {},
   "outputs": [],
   "source": [
    "\n",
    "m_form = rho*dot(du,u_)*dx\n",
    "M = PETScMatrix(comm)\n",
    "assemble(m_form, tensor=M)\n",
    "bc.zero(M)\n"
   ]
  },
  {
   "cell_type": "code",
   "execution_count": 11,
   "metadata": {},
   "outputs": [],
   "source": [
    "\n",
    "\n",
    "eigensolver = SLEPcEigenSolver(K,M)\n",
    "eigensolver.parameters['problem_type'] = 'gen_hermitian'\n",
    "eigensolver.parameters['spectral_transform'] = 'shift-and-invert'\n",
    "eigensolver.parameters['spectral_shift'] = 600.\n"
   ]
  },
  {
   "cell_type": "code",
   "execution_count": null,
   "metadata": {},
   "outputs": [],
   "source": [
    "\n",
    "N_eig = 24   # number of eigenvalues\n",
    "print(\"Computing {} first eigenvalues...\".format(N_eig))\n",
    "start = time.perf_counter()\n",
    "eigensolver.solve(N_eig)\n",
    "print(f\"elapsed time: {time.perf_counter()-start}\")\n",
    "print(f\"N Solutions Found: {eigensolver.get_number_converged()}\")\n"
   ]
  },
  {
   "cell_type": "code",
   "execution_count": 13,
   "metadata": {},
   "outputs": [
    {
     "name": "stdout",
     "output_type": "stream",
     "text": [
      "N Solutions Found: 77\n"
     ]
    }
   ],
   "source": [
    "print(f\"N Solutions Found: {eigensolver.get_number_converged()}\")\n"
   ]
  },
  {
   "cell_type": "code",
   "execution_count": 14,
   "metadata": {},
   "outputs": [
    {
     "name": "stdout",
     "output_type": "stream",
     "text": [
      "Solid FEM: 0.001 Hz\n",
      "Solid FEM: 0.001 Hz\n",
      "Solid FEM: 0.001 Hz\n",
      "Solid FEM: 109.679 Hz\n",
      "Solid FEM: 274.220 Hz\n",
      "Solid FEM: 274.497 Hz\n",
      "Solid FEM: 436.502 Hz\n",
      "Solid FEM: 548.356 Hz\n",
      "Solid FEM: 548.975 Hz\n",
      "Solid FEM: 708.213 Hz\n",
      "Solid FEM: 709.139 Hz\n",
      "Solid FEM: 929.196 Hz\n",
      "Solid FEM: 929.296 Hz\n",
      "Solid FEM: 977.005 Hz\n",
      "Solid FEM: 1087.127 Hz\n",
      "Solid FEM: 1087.742 Hz\n",
      "Solid FEM: 1351.279 Hz\n",
      "Solid FEM: 1352.463 Hz\n",
      "Solid FEM: 1411.914 Hz\n",
      "Solid FEM: 1414.467 Hz\n",
      "Solid FEM: 1569.766 Hz\n",
      "Solid FEM: 1570.548 Hz\n",
      "Solid FEM: 1720.312 Hz\n",
      "Solid FEM: 1830.968 Hz\n",
      "Solid FEM: 1831.865 Hz\n",
      "Solid FEM: 1936.246 Hz\n",
      "Solid FEM: 1999.018 Hz\n",
      "Solid FEM: 1999.827 Hz\n",
      "Solid FEM: 2064.431 Hz\n",
      "Solid FEM: 2064.502 Hz\n",
      "Solid FEM: 2151.499 Hz\n",
      "Solid FEM: 2153.339 Hz\n",
      "Solid FEM: 2192.775 Hz\n",
      "Solid FEM: 2193.382 Hz\n",
      "Solid FEM: 2193.928 Hz\n",
      "Solid FEM: 2407.303 Hz\n",
      "Solid FEM: 2411.714 Hz\n",
      "Solid FEM: 2497.263 Hz\n",
      "Solid FEM: 2662.759 Hz\n",
      "Solid FEM: 2681.604 Hz\n",
      "Solid FEM: 2682.158 Hz\n",
      "Solid FEM: 2764.337 Hz\n",
      "Solid FEM: 2768.154 Hz\n",
      "Solid FEM: 2831.266 Hz\n",
      "Solid FEM: 2834.796 Hz\n",
      "Solid FEM: 2880.911 Hz\n",
      "Solid FEM: 3082.839 Hz\n",
      "Solid FEM: 3087.764 Hz\n",
      "Solid FEM: 3107.548 Hz\n",
      "Solid FEM: 3107.701 Hz\n",
      "Solid FEM: 3223.451 Hz\n",
      "Solid FEM: 3227.859 Hz\n",
      "Solid FEM: 3435.940 Hz\n",
      "Solid FEM: 3436.738 Hz\n",
      "Solid FEM: 3454.316 Hz\n",
      "Solid FEM: 3455.427 Hz\n",
      "Solid FEM: 3597.272 Hz\n",
      "Solid FEM: 3599.954 Hz\n",
      "Solid FEM: 3603.878 Hz\n",
      "Solid FEM: 3783.084 Hz\n",
      "Solid FEM: 3850.267 Hz\n",
      "Solid FEM: 3853.712 Hz\n",
      "Solid FEM: 3887.984 Hz\n",
      "Solid FEM: 3889.458 Hz\n",
      "Solid FEM: 4152.104 Hz\n",
      "Solid FEM: 4152.259 Hz\n",
      "Solid FEM: 4193.556 Hz\n",
      "Solid FEM: 4195.809 Hz\n",
      "Solid FEM: 4212.079 Hz\n",
      "Solid FEM: 4314.745 Hz\n",
      "Solid FEM: 4316.137 Hz\n",
      "Solid FEM: 4386.334 Hz\n",
      "Solid FEM: 4414.495 Hz\n",
      "Solid FEM: 4431.604 Hz\n",
      "Solid FEM: 4435.954 Hz\n"
     ]
    }
   ],
   "source": [
    "\n",
    "if rank == 0:\n",
    "    for i in range(N_eig):\n",
    "        # Extract eigenpair\n",
    "        r, c, rx, cx = eigensolver.get_eigenpair(i)\n",
    "        # 3D eigenfrequency\n",
    "        freq_2D = sqrt(r)/2/pi\n",
    "        print(f\"Solid FEM: {freq_2D:.3f} Hz\")\n",
    "\n"
   ]
  },
  {
   "cell_type": "code",
   "execution_count": null,
   "metadata": {},
   "outputs": [],
   "source": [
    "eigenmodes = []\n",
    "\n",
    "for i in range(N_eig):\n",
    "    # Extract eigenpair\n",
    "    r, c, rx, cx = eigensolver.get_eigenpair(i)\n",
    "\n",
    "    # 3D eigenfrequency\n",
    "    freq_3D = sqrt(r)/2/pi\n",
    "\n",
    "   \n",
    "    # Initialize function and assign eigenvector\n",
    "    eigenmode = Function(V,name=\"Eigenvector \"+str(i))\n",
    "    eigenmode.vector()[:] = rx\n",
    "\n",
    "    eigenmodes.append(eigenmode)\n",
    "    vedo.dolfin.plot(eigenmode,box,offscreen=True)\n",
    "    vedo.screenshot(filename=f\"../data/NAFEMS_PLATE_MODE_{i}_{freq_3D:.2f}_Hz\")\n",
    "\n",
    "#     file_results.write(eigenmode,0.)\n",
    "    "
   ]
  },
  {
   "cell_type": "code",
   "execution_count": null,
   "metadata": {},
   "outputs": [],
   "source": [
    "# visualie the data by exporting to file\n",
    "\n",
    "\n",
    "# file_results = XDMFFile(\"../data/modal_analysis.xdmf\")\n",
    "# file_results.parameters[\"flush_output\"] = True\n",
    "# file_results.parameters[\"functions_share_mesh\"] = True\n",
    "# file_results.write(eigenmode, 0.)\n"
   ]
  },
  {
   "cell_type": "markdown",
   "metadata": {},
   "source": [
    "# Visualization\n",
    "## Notes\n",
    "- Ne3eds to have vedo installed"
   ]
  },
  {
   "cell_type": "code",
   "execution_count": null,
   "metadata": {},
   "outputs": [],
   "source": [
    "import pyvista as pv\n",
    "\n",
    "pv.start_xvfb()"
   ]
  },
  {
   "cell_type": "code",
   "execution_count": null,
   "metadata": {},
   "outputs": [],
   "source": [
    "from vedo.dolfin import *\n",
    "from vedo import Box\n",
    "import vedo\n",
    "vedo.embedWindow(False)"
   ]
  },
  {
   "cell_type": "code",
   "execution_count": null,
   "metadata": {},
   "outputs": [],
   "source": [
    "# add a frame box\n",
    "box = Box(length=1, width=1, height=1).pos(0.5,0,0).wireframe()"
   ]
  },
  {
   "cell_type": "code",
   "execution_count": null,
   "metadata": {},
   "outputs": [],
   "source": [
    "# iterate over the modes nadp lot them\n",
    "\n",
    "for idx,mode in enumerate(eigenmodes):\n",
    "        \n",
    "    vedo.dolfin.plot(mode,box,offscreen=True)\n",
    "    vedo.screenshot(filename=f\"../data/NAFEMS_PLATE_MODE_{idx}\")\n"
   ]
  },
  {
   "cell_type": "code",
   "execution_count": null,
   "metadata": {},
   "outputs": [],
   "source": []
  },
  {
   "cell_type": "code",
   "execution_count": null,
   "metadata": {},
   "outputs": [],
   "source": []
  },
  {
   "cell_type": "code",
   "execution_count": null,
   "metadata": {},
   "outputs": [],
   "source": []
  }
 ],
 "metadata": {
  "kernelspec": {
   "display_name": "Python 3",
   "language": "python",
   "name": "python3"
  },
  "language_info": {
   "codemirror_mode": {
    "name": "ipython",
    "version": 3
   },
   "file_extension": ".py",
   "mimetype": "text/x-python",
   "name": "python",
   "nbconvert_exporter": "python",
   "pygments_lexer": "ipython3",
   "version": "3.6.7"
  }
 },
 "nbformat": 4,
 "nbformat_minor": 4
}
